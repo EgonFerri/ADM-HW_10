{
 "cells": [
  {
   "cell_type": "markdown",
   "metadata": {},
   "source": [
    "# Homework 3 - Find the perfect place to stay in Texas!\n",
    "\n",
    "###### Alessandro Flaborea, Egon Ferri, Melis Kaymaz"
   ]
  },
  {
   "cell_type": "markdown",
   "metadata": {},
   "source": [
    "The homework consists in analyzing the text of Airbnb property listings and building a search engine."
   ]
  },
  {
   "cell_type": "code",
   "execution_count": 1,
   "metadata": {},
   "outputs": [],
   "source": [
    "import pandas as pd\n",
    "from nltk.tokenize import sent_tokenize, word_tokenize, PunktSentenceTokenizer\n",
    "from nltk.corpus import stopwords\n",
    "import string\n",
    "from nltk.stem import PorterStemmer\n",
    "from nltk import pos_tag, ne_chunk\n",
    "import nltk\n",
    "import math\n",
    "import json\n",
    "from geopy import distance\n",
    "import numpy\n",
    "import heapq_max\n",
    "import folium\n",
    "import os\n",
    "import branca.colormap as cm\n",
    "import  requests\n",
    "from  bs4  import  BeautifulSoup\n",
    "import re\n",
    "import csv\n",
    "from tkinter import *\n",
    "from functions import *"
   ]
  },
  {
   "cell_type": "markdown",
   "metadata": {},
   "source": [
    "## Step 2: Create documents"
   ]
  },
  {
   "cell_type": "markdown",
   "metadata": {},
   "source": [
    "The first task is to create a `.tsv` file for each record of the dataset.\n",
    "First thing to do is to read the `.csv` file."
   ]
  },
  {
   "cell_type": "code",
   "execution_count": 2,
   "metadata": {},
   "outputs": [],
   "source": [
    "# opening the csv file containing all the rooms in Texas\n",
    "f = pd.read_csv(r'C:\\Users\\mccol\\Desktop\\Sapienza\\ADM\\HW3\\Airbnb_Texas_Rentals.csv')\n",
    "\n",
    "\n",
    "# taking only the average_rate_per_night for each entry in the dataframe\n",
    "f['price_rank'] = list(map(lambda x: str(x)[1:], f['average_rate_per_night']))\n"
   ]
  },
  {
   "cell_type": "markdown",
   "metadata": {},
   "source": [
    "Now we can create `.tsv` files and store them in a folder."
   ]
  },
  {
   "cell_type": "code",
   "execution_count": null,
   "metadata": {},
   "outputs": [],
   "source": [
    "# creating all the tsv files from the dataframe\n",
    "for i in range(f.index.max()+1):\n",
    "    op = open(r'C:\\Users\\mccol\\Desktop\\Sapienza\\ADM\\HW3\\doc\\doc_' + str(i) + '.tsv', 'w', encoding=\"utf-8\")\n",
    "    for j in range(10):\n",
    "        op.write('%s\\t' %f.iloc[i, j])\n",
    "    op.close()"
   ]
  },
  {
   "cell_type": "markdown",
   "metadata": {},
   "source": [
    "## Step 3: Search Engine"
   ]
  },
  {
   "cell_type": "markdown",
   "metadata": {},
   "source": [
    "Now, we want to create two different Search Engines that, given as input a query, return the houses that match the query.\n",
    "\n",
    "As a first common step, we want to preprocess the documents by\n",
    "\n",
    "1. Removing stopwords\n",
    "2. Removing punctuation\n",
    "3. Stemming\n",
    "\n",
    "Then we want to build a file named `vocabulary.txt`, that maps each word to an integer."
   ]
  },
  {
   "cell_type": "code",
   "execution_count": 71,
   "metadata": {
    "scrolled": true
   },
   "outputs": [],
   "source": [
    "# creating the vocabulary that maps a word to an integer\n",
    "\n",
    "vocabulary= {}\n",
    "index = 0\n",
    "\n",
    "for i in range(18259):\n",
    "    \n",
    "    op = open(r'C:\\Users\\mccol\\Desktop\\Sapienza\\ADM\\HW3\\doc\\doc_' + str(i) + '.tsv', 'r', encoding=\"utf-8\")\n",
    "    for line in op:\n",
    "        ou = line.strip().split('\\t')\n",
    "        sentence = ou[5].replace('\\\\n', ' ').replace('/', ' ').replace('*', ' ').replace('\\\\r', ' ').replace('\\\\t', ' ') + ' ' + ou[8].replace('\\\\n', ' ').replace('/', ' ').replace('*', ' ').replace('\\\\r', ' ').replace('\\\\t', ' ')\n",
    "    op.close()\n",
    "        \n",
    "    #preprocessing data deleting stop words, punctuations, ecc.  \n",
    "    final = preprocess(word_tokenize(sentence))\n",
    "    \n",
    "    # IF  word not in vocabulary -> add the word\n",
    "    vocabulary, index = vocabularization(vocabulary, final, index)\n",
    "            \n",
    "op = open(r'C:\\Users\\mccol\\Desktop\\Sapienza\\ADM\\HW3\\vocabulary.txt', 'w', encoding=\"utf-8\")\n",
    "op.write(json.dumps(vocabulary))\n",
    "op.close()"
   ]
  },
  {
   "cell_type": "code",
   "execution_count": 4,
   "metadata": {},
   "outputs": [],
   "source": [
    "# opening the created vocabulary.txt\n",
    "op = open(r'C:\\Users\\mccol\\Desktop\\Sapienza\\ADM\\HW3\\vocabulary.txt', 'r', encoding=\"utf-8\")\n",
    "vocabulary = json.loads(op.read())"
   ]
  },
  {
   "cell_type": "markdown",
   "metadata": {},
   "source": [
    "### 3.1) Conjunctive query\n",
    "At this moment, we narrow out interest on the `description` and `title` of each document. It means that the first Search Engine will evaluate queries with respect to the aforementioned information."
   ]
  },
  {
   "cell_type": "markdown",
   "metadata": {},
   "source": [
    "#### 3.1.1) Creating our index!\n",
    "\n",
    "We want to create the Inverted Index. It will be a dictionary of this format:\n",
    "\n",
    "```\n",
    "{\n",
    "term_id_1:[document_1, document_2, document_4],\n",
    "term_id_2:[document_1, document_3, document_5, document_6],\n",
    "...}\n",
    "```\n",
    "\n",
    "where _document\\_i_ is the *id* of a document that contains the word.\n",
    "\n",
    "We also want to store it in a separate file, `inverted_index.txt` , and load it in memory with json when needed."
   ]
  },
  {
   "cell_type": "code",
   "execution_count": null,
   "metadata": {},
   "outputs": [],
   "source": [
    "# from the vocabulary, tha inverted index is created\n",
    "inverted_index = {}\n",
    "\n",
    "for file in range(18259):\n",
    "\n",
    "    op = open(r'C:\\Users\\mccol\\Desktop\\Sapienza\\ADM\\HW3\\doc\\doc_' + str(file) + '.tsv', 'r', encoding=\"utf-8\")\n",
    "    for line in op:\n",
    "        ou = line.strip().split('\\t')\n",
    "        sentence = ou[5].replace('\\\\n', ' ').replace('/', ' ').replace('*', ' ').replace('\\\\r', ' ').replace('\\\\t', ' ') + ' ' + ou[8].replace('\\\\n', ' ').replace('/', ' ').replace('*', ' ').replace('\\\\r', ' ').replace('\\\\t', ' ')\n",
    "    op.close()\n",
    " \n",
    "    \n",
    "    # preprocessing data deleting stop words, punctuations, ecc.  \n",
    "    final = preprocess(word_tokenize(sentence))\n",
    "    \n",
    "    \n",
    "    # CREATING INVERTED INDEX\n",
    "    for word in final:\n",
    "        index = vocabulary[word]\n",
    "        if not (index in inverted_index):\n",
    "            inverted_index[index] = ['doc_' + str(file)]\n",
    "        elif not('doc_' + str(file) in inverted_index[index]):\n",
    "            inverted_index[index] = inverted_index[index] + ['doc_' + str(file)]\n",
    "\n",
    "op = open(r'C:\\Users\\mccol\\Desktop\\Sapienza\\ADM\\HW3\\inverted_index.txt', 'w', encoding=\"utf-8\")\n",
    "op.write(json.dumps(inverted_index))\n",
    "op.close()"
   ]
  },
  {
   "cell_type": "code",
   "execution_count": 5,
   "metadata": {},
   "outputs": [],
   "source": [
    "# opening the created inverted_index.txt\n",
    "\n",
    "op = open(r'C:\\Users\\mccol\\Desktop\\Sapienza\\ADM\\HW3\\inverted_index.txt', 'r', encoding=\"utf-8\")\n",
    "inverted_index = json.loads(op.read())\n"
   ]
  },
  {
   "cell_type": "markdown",
   "metadata": {},
   "source": [
    "#### 3.1.2) Execute the query\n",
    "Now given a query, that we let the user enter, for example:\n",
    "```\n",
    "a queen and comfortable room with netflix\n",
    "```\n",
    "we want that the Search Engine returns a list of documents that contains all the important words in the query."
   ]
  },
  {
   "cell_type": "markdown",
   "metadata": {},
   "source": [
    "Handling the query:"
   ]
  },
  {
   "cell_type": "code",
   "execution_count": 4,
   "metadata": {},
   "outputs": [
    {
     "name": "stdout",
     "output_type": "stream",
     "text": [
      "What are you searching?\n",
      "a queen and comfortable room with netflix\n"
     ]
    }
   ],
   "source": [
    "# handling the query\n",
    "user_query = input('What are you searching?\\n')\n",
    "    \n",
    "# preprocessing data deleting stop words, punctuations, ecc.  \n",
    "# final contains the processed words\n",
    "query = preprocess(word_tokenize(user_query))\n"
   ]
  },
  {
   "cell_type": "markdown",
   "metadata": {},
   "source": [
    "Creating an inverted index containing only the words of the query:"
   ]
  },
  {
   "cell_type": "code",
   "execution_count": 38,
   "metadata": {},
   "outputs": [],
   "source": [
    "# taking from the inverted index only the words present in the query\n",
    "voc = {}\n",
    "inverted_index_query = {}\n",
    "i=0\n",
    "for word in query: \n",
    "    voc[i]  = vocabulary[word]\n",
    "    i = i+1\n",
    "for index in range(i):\n",
    "    inverted_index_query[voc[index]] = inverted_index[voc[index]]\n"
   ]
  },
  {
   "cell_type": "markdown",
   "metadata": {},
   "source": [
    "Finding list of docs that contain all the words in the query and printing them in the format that we want:"
   ]
  },
  {
   "cell_type": "code",
   "execution_count": 39,
   "metadata": {
    "scrolled": true
   },
   "outputs": [
    {
     "data": {
      "text/html": [
       "<style  type=\"text/css\" >\n",
       "</style>  \n",
       "<table id=\"T_7cbee112_f0ad_11e8_9b43_204747782cb8\" > \n",
       "<thead>    <tr> \n",
       "        <th class=\"col_heading level0 col0\" >title</th> \n",
       "        <th class=\"col_heading level0 col1\" >description</th> \n",
       "        <th class=\"col_heading level0 col2\" >city</th> \n",
       "        <th class=\"col_heading level0 col3\" >url</th> \n",
       "    </tr></thead> \n",
       "<tbody>    <tr> \n",
       "        <td id=\"T_7cbee112_f0ad_11e8_9b43_204747782cb8row0_col0\" class=\"data row0 col0\" >Next to Stadiums! Updated, Modern 1 BD apt</td> \n",
       "        <td id=\"T_7cbee112_f0ad_11e8_9b43_204747782cb8row0_col1\" class=\"data row0 col1\" >Cozy and comfortable modern 1 BD apt. This apt is in the middle of EVERYTHING. Tons of restaurants and tourist attractions with in 1-2 miles. A second floor unit overlooking the pool. Comfortable king size Serta memory foam mattress in the bedroom, and a comfortable couch and love seat in the living room, along with a queen size air mattress. High speed internet and Netflix provided. This apartment is the perfect place if you are coming to town for the theme Parks or anything at ATT stadium.</td> \n",
       "        <td id=\"T_7cbee112_f0ad_11e8_9b43_204747782cb8row0_col2\" class=\"data row0 col2\" >Arlington</td> \n",
       "        <td id=\"T_7cbee112_f0ad_11e8_9b43_204747782cb8row0_col3\" class=\"data row0 col3\" >https://www.airbnb.com/rooms/18363018?location=Bedford%2C%20TX</td> \n",
       "    </tr>    <tr> \n",
       "        <td id=\"T_7cbee112_f0ad_11e8_9b43_204747782cb8row1_col0\" class=\"data row1 col0\" >Jay's Lounge</td> \n",
       "        <td id=\"T_7cbee112_f0ad_11e8_9b43_204747782cb8row1_col1\" class=\"data row1 col1\" >hola, Enjoy this very quiet and comfortable room with Smart TV with Netflix, fridge, air conditioner with queen size bed and laundry machine. This converted garage room is centrally located between Dallas and fort worth metroplex.  9.7 miles from DFW International airport. 7 miles from Love Field airport.  11 miles from Dallas downtown area. 6 miles from a mall, AMC, gym and some of the Great Tex-Mex restaurants.  Centrally located and very quite and decent neighborhood.</td> \n",
       "        <td id=\"T_7cbee112_f0ad_11e8_9b43_204747782cb8row1_col2\" class=\"data row1 col2\" >Irving</td> \n",
       "        <td id=\"T_7cbee112_f0ad_11e8_9b43_204747782cb8row1_col3\" class=\"data row1 col3\" >https://www.airbnb.com/rooms/18655719?location=Coppell%2C%20TX</td> \n",
       "    </tr>    <tr> \n",
       "        <td id=\"T_7cbee112_f0ad_11e8_9b43_204747782cb8row2_col0\" class=\"data row2 col0\" >Jay's Lounge</td> \n",
       "        <td id=\"T_7cbee112_f0ad_11e8_9b43_204747782cb8row2_col1\" class=\"data row2 col1\" >hola, Enjoy this very quiet and comfortable room with Smart TV with Netflix, fridge, air conditioner with queen size bed and laundry machine. This converted garage room is centrally located between Dallas and fort worth metroplex.  9.7 miles from DFW International airport. 7 miles from Love Field airport.  11 miles from Dallas downtown area. 6 miles from a mall, AMC, gym and some of the Great Tex-Mex restaurants.  Centrally located and very quite and decent neighborhood.</td> \n",
       "        <td id=\"T_7cbee112_f0ad_11e8_9b43_204747782cb8row2_col2\" class=\"data row2 col2\" >Irving</td> \n",
       "        <td id=\"T_7cbee112_f0ad_11e8_9b43_204747782cb8row2_col3\" class=\"data row2 col3\" >https://www.airbnb.com/rooms/18655719?location=Colleyville%2C%20TX</td> \n",
       "    </tr>    <tr> \n",
       "        <td id=\"T_7cbee112_f0ad_11e8_9b43_204747782cb8row3_col0\" class=\"data row3 col0\" >Jay's Lounge</td> \n",
       "        <td id=\"T_7cbee112_f0ad_11e8_9b43_204747782cb8row3_col1\" class=\"data row3 col1\" >hola, Enjoy this very quiet and comfortable room with Smart TV with Netflix, fridge, air conditioner with queen size bed and laundry machine. This converted garage room is centrally located between Dallas and fort worth metroplex.  9.7 miles from DFW International airport. 7 miles from Love Field airport.  11 miles from Dallas downtown area. 6 miles from a mall, AMC, gym and some of the Great Tex-Mex restaurants.  Centrally located and very quite and decent neighborhood.</td> \n",
       "        <td id=\"T_7cbee112_f0ad_11e8_9b43_204747782cb8row3_col2\" class=\"data row3 col2\" >Irving</td> \n",
       "        <td id=\"T_7cbee112_f0ad_11e8_9b43_204747782cb8row3_col3\" class=\"data row3 col3\" >https://www.airbnb.com/rooms/18655719?location=Carrollton%2C%20TX</td> \n",
       "    </tr>    <tr> \n",
       "        <td id=\"T_7cbee112_f0ad_11e8_9b43_204747782cb8row4_col0\" class=\"data row4 col0\" >Next to Stadiums! Updated, Modern 1 BD apt</td> \n",
       "        <td id=\"T_7cbee112_f0ad_11e8_9b43_204747782cb8row4_col1\" class=\"data row4 col1\" >Cozy and comfortable modern 1 BD apt. This apt is in the middle of EVERYTHING. Tons of restaurants and tourist attractions with in 1-2 miles. A second floor unit overlooking the pool. Comfortable king size Serta memory foam mattress in the bedroom, and a comfortable couch and love seat in the living room, along with a queen size air mattress. High speed internet and Netflix provided. This apartment is the perfect place if you are coming to town for the theme Parks or anything at ATT stadium.</td> \n",
       "        <td id=\"T_7cbee112_f0ad_11e8_9b43_204747782cb8row4_col2\" class=\"data row4 col2\" >Arlington</td> \n",
       "        <td id=\"T_7cbee112_f0ad_11e8_9b43_204747782cb8row4_col3\" class=\"data row4 col3\" >https://www.airbnb.com/rooms/18363018?location=Cedar%20Hill%2C%20TX</td> \n",
       "    </tr>    <tr> \n",
       "        <td id=\"T_7cbee112_f0ad_11e8_9b43_204747782cb8row5_col0\" class=\"data row5 col0\" >Spacious South Austin home</td> \n",
       "        <td id=\"T_7cbee112_f0ad_11e8_9b43_204747782cb8row5_col1\" class=\"data row5 col1\" >Spacious shaded yard/deck for playing, lounging, grilling (and professionally treated for mosquitoes!) Open kitchen perfect for entertaining- close to Central Market, Whole Foods, numerous restaurants- comfortably sleeps 6-8. Flatscreen TVs in 4 rooms w cable/netflix. Great neighborhood- Kid friendly and perfect for families! One king bed, one queen, one twin, one queen futon, one twin floor mattress if needed</td> \n",
       "        <td id=\"T_7cbee112_f0ad_11e8_9b43_204747782cb8row5_col2\" class=\"data row5 col2\" >Austin</td> \n",
       "        <td id=\"T_7cbee112_f0ad_11e8_9b43_204747782cb8row5_col3\" class=\"data row5 col3\" >https://www.airbnb.com/rooms/9970080?location=Buda%2C%20TX</td> \n",
       "    </tr>    <tr> \n",
       "        <td id=\"T_7cbee112_f0ad_11e8_9b43_204747782cb8row6_col0\" class=\"data row6 col0\" >Next to Stadiums! Updated, Modern 1 BD apt</td> \n",
       "        <td id=\"T_7cbee112_f0ad_11e8_9b43_204747782cb8row6_col1\" class=\"data row6 col1\" >Cozy and comfortable modern 1 BD apt. This apt is in the middle of EVERYTHING. Tons of restaurants and tourist attractions with in 1-2 miles. A second floor unit overlooking the pool. Comfortable king size Serta memory foam mattress in the bedroom, and a comfortable couch and love seat in the living room, along with a queen size air mattress. High speed internet and Netflix provided. This apartment is the perfect place if you are coming to town for the theme Parks or anything at ATT stadium.</td> \n",
       "        <td id=\"T_7cbee112_f0ad_11e8_9b43_204747782cb8row6_col2\" class=\"data row6 col2\" >Arlington</td> \n",
       "        <td id=\"T_7cbee112_f0ad_11e8_9b43_204747782cb8row6_col3\" class=\"data row6 col3\" >https://www.airbnb.com/rooms/18363018?location=Arlington%2C%20TX</td> \n",
       "    </tr></tbody> \n",
       "</table> "
      ],
      "text/plain": [
       "<pandas.io.formats.style.Styler at 0x20db9dd4780>"
      ]
     },
     "execution_count": 39,
     "metadata": {},
     "output_type": "execute_result"
    }
   ],
   "source": [
    "# finding list of docs that contains all the words in the query\n",
    "docs = []\n",
    "\n",
    "for i in range(18259):\n",
    "    doc = 'doc_' + str(i)\n",
    "    b = True\n",
    "    for j in voc.values(): \n",
    "        b = b and (doc in inverted_index_query[j])\n",
    "    if b:\n",
    "        docs.append(i)\n",
    "\n",
    "# printing the table with docs with all the words in the query\n",
    "df = f.filter(items = ['title', 'description', 'city', 'url']).loc[docs]\n",
    "df.description = list(map(lambda x: x.replace('\\\\n', ' '), df.description.tolist()))\n",
    "df.style.hide_index()"
   ]
  },
  {
   "cell_type": "markdown",
   "metadata": {},
   "source": [
    "### 3.2) Conjunctive query & Ranking score\n",
    "Now the task is to build up a Search Engine that takes a query and returns *top-k* documents related to the query. \n",
    "\n",
    "In particular we want:\n",
    "\n",
    "* Find all the documents that contains all the words in the query (this process is the same that the previous Search Engine do).\n",
    "* Sort them by their similarity with the query\n",
    "* Return in output *k* documents, or all the documents with non-zero similarity with the query when the results are less than _k_.\n",
    "\n",
    "To solve this task, we use the *tfIdf* score, and the _Cosine similarity_. Let's see how."
   ]
  },
  {
   "cell_type": "markdown",
   "metadata": {},
   "source": [
    "The Cosine Similarity is a measure of similarity that is useful when two documents are compared. Its main advantage is that's capable of normalize vector's length during comparison.\n",
    "Another important feature of Cosine Similarity is that is optimal for sparse vectors since we only need to consdier the non-zero dimensions.\n",
    "\n",
    "The general formula to calculate it it's given by $cos(\\theta)=\\frac{A \\cdot B}{\\parallel A \\parallel \\parallel B \\parallel}= \\frac{\\sum_{i=1}^{n}{A_i \\cdot B_i}}{\\sqrt{\\sum_{i=1}^{n}A_i^2}  \\sqrt{\\sum_{i=1}^{n}B_i^2} }$"
   ]
  },
  {
   "cell_type": "markdown",
   "metadata": {},
   "source": [
    "In particular we want to find the similarity between the query and each document:\n",
    "$cos(\\theta)=\\frac{Query \\cdot doc_i}{\\parallel Query \\parallel \\parallel doc_i \\parallel}$\n",
    "\n",
    "To perform this formula, we want to calculate `TF` and `IDF` to convert text into numbers so that it can be represented by a vector.\n",
    "\n",
    "With `TF` we mean Term Frequency, or times that a certain term occurred in a query or in a doc. We also want to normalize the document based on its size and we can do it dividing the term frequency by the total number of terms. \n",
    "\n",
    "With `IDF` we mean Inverse Document Frequency. Inverse Document Frequencies help us to _weigh down_ the effects of too frequently occurring term(and _weigh up_ less frequent terms). \n",
    "\n",
    "We can calculate it using logarithms: $\\log (\\frac{n}{m})$ with n=Total number of docs and m=Number Of Documents with term game in it.\n",
    "\n",
    "\n"
   ]
  },
  {
   "cell_type": "markdown",
   "metadata": {},
   "source": [
    "First thing; we create a new inverted index that contains `tfIdf`s:"
   ]
  },
  {
   "cell_type": "code",
   "execution_count": 87,
   "metadata": {},
   "outputs": [],
   "source": [
    "# from the vocabulary the inverted index is created. In this case the index are mapped to a tuple (doc, tf-idf)\n",
    "\n",
    "inverted_index_2 = {}\n",
    "\n",
    "for file in range(18259):\n",
    "\n",
    "    op = open(r'C:\\Users\\mccol\\Desktop\\Sapienza\\ADM\\HW3\\doc\\doc_' + str(file) + '.tsv', 'r', encoding=\"utf-8\")\n",
    "    for line in op:\n",
    "        ou = line.strip().split('\\t')\n",
    "        sentence = ou[5].replace('\\\\n', ' ').replace('/', ' ').replace('*', ' ').replace('\\\\r', ' ').replace('\\\\t', ' ') + ' ' + ou[8].replace('\\\\n', ' ').replace('/', ' ').replace('*', ' ').replace('\\\\r', ' ').replace('\\\\t', ' ')\n",
    "    op.close()\n",
    " \n",
    "    \n",
    "    # preprocessing data deleting stop words, punctuations, ecc.  \n",
    "    final = preprocess(word_tokenize(sentence))\n",
    "    \n",
    "    \n",
    "    # CREATING INVERTED INDEX with tf-idf values\n",
    "    for word in final:\n",
    "        index = vocabulary[word]\n",
    "        \n",
    "        tf = final.count(word) / len(final)\n",
    "        idf = math.log( 18259 / len(inverted_index[vocabulary[word]]))\n",
    "        tf_idf = tf*idf\n",
    "        \n",
    "        if not (index in inverted_index_2):\n",
    "            inverted_index_2[index] = [('doc_' + str(file), tf_idf )]\n",
    "        elif not(('doc_' + str(file), tf_idf)  in inverted_index_2[index]):\n",
    "            inverted_index_2[index] = inverted_index_2[index] + [('doc_' + str(file), tf_idf)]\n",
    "\n",
    "\n",
    "op = open(r'C:\\Users\\mccol\\Desktop\\Sapienza\\ADM\\HW3\\inverted_index_2.txt', 'w', encoding=\"utf-8\")\n",
    "op.write(json.dumps(inverted_index_2))\n",
    "op.close()"
   ]
  },
  {
   "cell_type": "code",
   "execution_count": 20,
   "metadata": {},
   "outputs": [],
   "source": [
    "# opening the created inverted_index_2.txt\n",
    "\n",
    "op = open(r'C:\\Users\\mccol\\Desktop\\Sapienza\\ADM\\HW3\\inverted_index_2.txt', 'r', encoding=\"utf-8\")\n",
    "inverted_index_2 = json.loads(op.read())\n"
   ]
  },
  {
   "cell_type": "markdown",
   "metadata": {},
   "source": [
    "Now we can handle query input:"
   ]
  },
  {
   "cell_type": "code",
   "execution_count": 40,
   "metadata": {},
   "outputs": [
    {
     "name": "stdout",
     "output_type": "stream",
     "text": [
      "What are you searching?\n",
      "a queen and comfortable room with netflix\n"
     ]
    }
   ],
   "source": [
    "user_query = input('What are you searching?\\n')\n",
    "\n",
    "# preprocessing data deleting stop words, punctuations, ecc.  \n",
    "query = preprocess(word_tokenize(user_query))\n"
   ]
  },
  {
   "cell_type": "code",
   "execution_count": 41,
   "metadata": {},
   "outputs": [],
   "source": [
    "# taking from the inverted index only the words present in the query\n",
    "voc = {}\n",
    "inverted_index_query = {}\n",
    "i=0\n",
    "for word in query: \n",
    "    voc[i]  = vocabulary[word]\n",
    "    i = i+1\n",
    "for index in range(i):\n",
    "    inverted_index_query[voc[index]] = inverted_index[voc[index]]\n",
    "\n",
    "# finding list of docs that contains all the words in the query\n",
    "docs = []\n",
    "\n",
    "for i in range(18259):\n",
    "    doc = 'doc_' + str(i)\n",
    "    b = True\n",
    "    for j in voc.values(): \n",
    "        b = b and (doc in inverted_index_query[j])\n",
    "    if b:\n",
    "        docs.append(i)\n",
    "docs_and = set(docs)\n"
   ]
  },
  {
   "cell_type": "markdown",
   "metadata": {},
   "source": [
    "Traducing the query in our 'language':"
   ]
  },
  {
   "cell_type": "code",
   "execution_count": 42,
   "metadata": {},
   "outputs": [],
   "source": [
    "voc = {}\n",
    "inverted_query = {}\n",
    "i=0\n",
    "\n",
    "# taking only the words in query from the inverted_index_2\n",
    "for word in query: \n",
    "    voc[i]  = vocabulary[word]\n",
    "    i = i+1\n",
    "for index in range(i):\n",
    "    inverted_query[voc[index]] = inverted_index_2[voc[index]]\n",
    "\n"
   ]
  },
  {
   "cell_type": "markdown",
   "metadata": {},
   "source": [
    "We normalize the document vector :"
   ]
  },
  {
   "cell_type": "code",
   "execution_count": 43,
   "metadata": {
    "scrolled": true
   },
   "outputs": [],
   "source": [
    "n = {}\n",
    "index = 0\n",
    "\n",
    "# normalization of the document vector to the length of the query  \n",
    "for i in inverted_query:\n",
    "    for j in inverted_query[i]:\n",
    "        if index == 0:\n",
    "            n[j[0]] = [j[1]]\n",
    "        elif (not (j[0] in n)):\n",
    "            n[j[0]] = [0]*index + ([j[1]])\n",
    "        else:   \n",
    "            n[j[0]] = n[j[0]] + [0]*(index - len(n[j[0]])) + ([j[1]])\n",
    "    index = index + 1\n",
    "\n",
    "    \n",
    "for i in n:\n",
    "    if len(n[i]) < len(query) :\n",
    "        n[i] = n[i] + [0]*(len(query)-len(n[i]))\n"
   ]
  },
  {
   "cell_type": "markdown",
   "metadata": {},
   "source": [
    "Finding `tfidf`s of the query:"
   ]
  },
  {
   "cell_type": "code",
   "execution_count": 44,
   "metadata": {},
   "outputs": [],
   "source": [
    "# calculating tf-idf of the query\n",
    "tfidf_query = []  \n",
    "for word in query:\n",
    "    tf_query = query.count(word) / len(query)\n",
    "    idf_query = math.log( 18259 / len(inverted_index[vocabulary[word]]))\n",
    "    tfidf_query.append(tf_query * idf_query)\n"
   ]
  },
  {
   "cell_type": "markdown",
   "metadata": {},
   "source": [
    "Finding denominator of our dear formula: norm of the query and norm of docs:"
   ]
  },
  {
   "cell_type": "code",
   "execution_count": 45,
   "metadata": {},
   "outputs": [],
   "source": [
    "# norm of the query\n",
    "norm_query = numpy.sqrt(sum(list(map(lambda x: x**2, tfidf_query))))"
   ]
  },
  {
   "cell_type": "code",
   "execution_count": 46,
   "metadata": {},
   "outputs": [],
   "source": [
    "# norm of each 'normalized' document \n",
    "norm_doc = {}\n",
    "for i in range(18259):\n",
    "    doc = 'doc_' + str(i)\n",
    "    nomin = 0\n",
    "    for i in inverted_query:\n",
    "        for j in inverted_query[i]:\n",
    "            if j[0] == doc :\n",
    "                nomin = nomin + j[1]**2\n",
    "                norm_doc[doc] = nomin\n",
    "for i in norm_doc:\n",
    "    norm_doc[i] = numpy.sqrt(norm_doc[i])\n"
   ]
  },
  {
   "cell_type": "markdown",
   "metadata": {},
   "source": [
    "Finding finally our cosine similarities, find the set union with documents that contains **all** the words of the query, and sorting them with haep algorithms:"
   ]
  },
  {
   "cell_type": "code",
   "execution_count": 47,
   "metadata": {},
   "outputs": [],
   "source": [
    "# finding the cosine similarities for each word\n",
    "cosines= []\n",
    "for i in n:\n",
    "    st = i\n",
    "    cos = numpy.dot(tfidf_query, n[st])\n",
    "    cosine = round(cos / (norm_doc[st]*norm_query), 10)\n",
    "\n",
    "    cosines.append((cosine, i ))\n"
   ]
  },
  {
   "cell_type": "code",
   "execution_count": 48,
   "metadata": {},
   "outputs": [],
   "source": [
    "cosines_2 = [] \n",
    "for i in cosines:\n",
    "    if int(i[1][4:]) in docs_and:\n",
    "        cosines_2.append(i)\n"
   ]
  },
  {
   "cell_type": "code",
   "execution_count": 49,
   "metadata": {},
   "outputs": [],
   "source": [
    "# create the max heap from the cosine similarituìies values and taking the k-largest values\n",
    "k = 6\n",
    "\n",
    "heap_max = []\n",
    "for i in cosines_2:\n",
    "    heapq_max.heappush_max(heap_max, i)\n",
    "\n",
    "best_cosine = []\n",
    "docs = []\n",
    "for i in range(k):\n",
    "    try:\n",
    "        cos = heapq_max.heappop_max(heap_max)\n",
    "        best_cosine.append(cos[0])\n",
    "        docs.append(int(cos[1][4:]))\n",
    "    except:\n",
    "        break"
   ]
  },
  {
   "cell_type": "markdown",
   "metadata": {},
   "source": [
    "Printing them in the format that we want:"
   ]
  },
  {
   "cell_type": "code",
   "execution_count": 50,
   "metadata": {},
   "outputs": [
    {
     "data": {
      "text/html": [
       "<style  type=\"text/css\" >\n",
       "</style>  \n",
       "<table id=\"T_a7d923a8_f0ad_11e8_937c_204747782cb8\" > \n",
       "<thead>    <tr> \n",
       "        <th class=\"col_heading level0 col0\" >title</th> \n",
       "        <th class=\"col_heading level0 col1\" >description</th> \n",
       "        <th class=\"col_heading level0 col2\" >city</th> \n",
       "        <th class=\"col_heading level0 col3\" >url</th> \n",
       "        <th class=\"col_heading level0 col4\" >ranking</th> \n",
       "    </tr></thead> \n",
       "<tbody>    <tr> \n",
       "        <td id=\"T_a7d923a8_f0ad_11e8_937c_204747782cb8row0_col0\" class=\"data row0 col0\" >Jay's Lounge</td> \n",
       "        <td id=\"T_a7d923a8_f0ad_11e8_937c_204747782cb8row0_col1\" class=\"data row0 col1\" >hola, Enjoy this very quiet and comfortable room with Smart TV with Netflix, fridge, air conditioner with queen size bed and laundry machine. This converted garage room is centrally located between Dallas and fort worth metroplex.  9.7 miles from DFW International airport. 7 miles from Love Field airport.  11 miles from Dallas downtown area. 6 miles from a mall, AMC, gym and some of the Great Tex-Mex restaurants.  Centrally located and very quite and decent neighborhood.</td> \n",
       "        <td id=\"T_a7d923a8_f0ad_11e8_937c_204747782cb8row0_col2\" class=\"data row0 col2\" >Irving</td> \n",
       "        <td id=\"T_a7d923a8_f0ad_11e8_937c_204747782cb8row0_col3\" class=\"data row0 col3\" >https://www.airbnb.com/rooms/18655719?location=Carrollton%2C%20TX</td> \n",
       "        <td id=\"T_a7d923a8_f0ad_11e8_937c_204747782cb8row0_col4\" class=\"data row0 col4\" >0.978778</td> \n",
       "    </tr>    <tr> \n",
       "        <td id=\"T_a7d923a8_f0ad_11e8_937c_204747782cb8row1_col0\" class=\"data row1 col0\" >Jay's Lounge</td> \n",
       "        <td id=\"T_a7d923a8_f0ad_11e8_937c_204747782cb8row1_col1\" class=\"data row1 col1\" >hola, Enjoy this very quiet and comfortable room with Smart TV with Netflix, fridge, air conditioner with queen size bed and laundry machine. This converted garage room is centrally located between Dallas and fort worth metroplex.  9.7 miles from DFW International airport. 7 miles from Love Field airport.  11 miles from Dallas downtown area. 6 miles from a mall, AMC, gym and some of the Great Tex-Mex restaurants.  Centrally located and very quite and decent neighborhood.</td> \n",
       "        <td id=\"T_a7d923a8_f0ad_11e8_937c_204747782cb8row1_col2\" class=\"data row1 col2\" >Irving</td> \n",
       "        <td id=\"T_a7d923a8_f0ad_11e8_937c_204747782cb8row1_col3\" class=\"data row1 col3\" >https://www.airbnb.com/rooms/18655719?location=Colleyville%2C%20TX</td> \n",
       "        <td id=\"T_a7d923a8_f0ad_11e8_937c_204747782cb8row1_col4\" class=\"data row1 col4\" >0.978778</td> \n",
       "    </tr>    <tr> \n",
       "        <td id=\"T_a7d923a8_f0ad_11e8_937c_204747782cb8row2_col0\" class=\"data row2 col0\" >Jay's Lounge</td> \n",
       "        <td id=\"T_a7d923a8_f0ad_11e8_937c_204747782cb8row2_col1\" class=\"data row2 col1\" >hola, Enjoy this very quiet and comfortable room with Smart TV with Netflix, fridge, air conditioner with queen size bed and laundry machine. This converted garage room is centrally located between Dallas and fort worth metroplex.  9.7 miles from DFW International airport. 7 miles from Love Field airport.  11 miles from Dallas downtown area. 6 miles from a mall, AMC, gym and some of the Great Tex-Mex restaurants.  Centrally located and very quite and decent neighborhood.</td> \n",
       "        <td id=\"T_a7d923a8_f0ad_11e8_937c_204747782cb8row2_col2\" class=\"data row2 col2\" >Irving</td> \n",
       "        <td id=\"T_a7d923a8_f0ad_11e8_937c_204747782cb8row2_col3\" class=\"data row2 col3\" >https://www.airbnb.com/rooms/18655719?location=Coppell%2C%20TX</td> \n",
       "        <td id=\"T_a7d923a8_f0ad_11e8_937c_204747782cb8row2_col4\" class=\"data row2 col4\" >0.978778</td> \n",
       "    </tr>    <tr> \n",
       "        <td id=\"T_a7d923a8_f0ad_11e8_937c_204747782cb8row3_col0\" class=\"data row3 col0\" >Spacious South Austin home</td> \n",
       "        <td id=\"T_a7d923a8_f0ad_11e8_937c_204747782cb8row3_col1\" class=\"data row3 col1\" >Spacious shaded yard/deck for playing, lounging, grilling (and professionally treated for mosquitoes!) Open kitchen perfect for entertaining- close to Central Market, Whole Foods, numerous restaurants- comfortably sleeps 6-8. Flatscreen TVs in 4 rooms w cable/netflix. Great neighborhood- Kid friendly and perfect for families! One king bed, one queen, one twin, one queen futon, one twin floor mattress if needed</td> \n",
       "        <td id=\"T_a7d923a8_f0ad_11e8_937c_204747782cb8row3_col2\" class=\"data row3 col2\" >Austin</td> \n",
       "        <td id=\"T_a7d923a8_f0ad_11e8_937c_204747782cb8row3_col3\" class=\"data row3 col3\" >https://www.airbnb.com/rooms/9970080?location=Buda%2C%20TX</td> \n",
       "        <td id=\"T_a7d923a8_f0ad_11e8_937c_204747782cb8row3_col4\" class=\"data row3 col4\" >0.952353</td> \n",
       "    </tr>    <tr> \n",
       "        <td id=\"T_a7d923a8_f0ad_11e8_937c_204747782cb8row4_col0\" class=\"data row4 col0\" >Next to Stadiums! Updated, Modern 1 BD apt</td> \n",
       "        <td id=\"T_a7d923a8_f0ad_11e8_937c_204747782cb8row4_col1\" class=\"data row4 col1\" >Cozy and comfortable modern 1 BD apt. This apt is in the middle of EVERYTHING. Tons of restaurants and tourist attractions with in 1-2 miles. A second floor unit overlooking the pool. Comfortable king size Serta memory foam mattress in the bedroom, and a comfortable couch and love seat in the living room, along with a queen size air mattress. High speed internet and Netflix provided. This apartment is the perfect place if you are coming to town for the theme Parks or anything at ATT stadium.</td> \n",
       "        <td id=\"T_a7d923a8_f0ad_11e8_937c_204747782cb8row4_col2\" class=\"data row4 col2\" >Arlington</td> \n",
       "        <td id=\"T_a7d923a8_f0ad_11e8_937c_204747782cb8row4_col3\" class=\"data row4 col3\" >https://www.airbnb.com/rooms/18363018?location=Cedar%20Hill%2C%20TX</td> \n",
       "        <td id=\"T_a7d923a8_f0ad_11e8_937c_204747782cb8row4_col4\" class=\"data row4 col4\" >0.881165</td> \n",
       "    </tr>    <tr> \n",
       "        <td id=\"T_a7d923a8_f0ad_11e8_937c_204747782cb8row5_col0\" class=\"data row5 col0\" >Next to Stadiums! Updated, Modern 1 BD apt</td> \n",
       "        <td id=\"T_a7d923a8_f0ad_11e8_937c_204747782cb8row5_col1\" class=\"data row5 col1\" >Cozy and comfortable modern 1 BD apt. This apt is in the middle of EVERYTHING. Tons of restaurants and tourist attractions with in 1-2 miles. A second floor unit overlooking the pool. Comfortable king size Serta memory foam mattress in the bedroom, and a comfortable couch and love seat in the living room, along with a queen size air mattress. High speed internet and Netflix provided. This apartment is the perfect place if you are coming to town for the theme Parks or anything at ATT stadium.</td> \n",
       "        <td id=\"T_a7d923a8_f0ad_11e8_937c_204747782cb8row5_col2\" class=\"data row5 col2\" >Arlington</td> \n",
       "        <td id=\"T_a7d923a8_f0ad_11e8_937c_204747782cb8row5_col3\" class=\"data row5 col3\" >https://www.airbnb.com/rooms/18363018?location=Bedford%2C%20TX</td> \n",
       "        <td id=\"T_a7d923a8_f0ad_11e8_937c_204747782cb8row5_col4\" class=\"data row5 col4\" >0.881165</td> \n",
       "    </tr></tbody> \n",
       "</table> "
      ],
      "text/plain": [
       "<pandas.io.formats.style.Styler at 0x20db9c5b9e8>"
      ]
     },
     "execution_count": 50,
     "metadata": {},
     "output_type": "execute_result"
    }
   ],
   "source": [
    "# print the table with the best k documents found and their ranking\n",
    "\n",
    "df = f.filter(items = ['title', 'description', 'city', 'url']).loc[docs]\n",
    "df.description = list(map(lambda x: x.replace('\\\\n', ' '), df.description.tolist()))\n",
    "df['ranking'] = best_cosine\n",
    "df.style.hide_index()"
   ]
  },
  {
   "cell_type": "markdown",
   "metadata": {},
   "source": [
    "## Step 4: Define a new score!\n",
    "Now we suppose that Airbnb wants us in their team, and they need the best idea ever on how to rank the houses based on the queries of their users.\n",
    "\n",
    "In this scenario, a single user can give in input more information than the single textual query, and we want to take into account all this informations, and think a creative and logical way on how to answer at user's requests.\n",
    "\n",
    "We decided to ask user other infos and then to write a new scoring function."
   ]
  },
  {
   "cell_type": "markdown",
   "metadata": {},
   "source": [
    "### ADDING NEW VARIABLES\n",
    "We will add some new variables such as amenities that the host can provide and can not provide, whether the host is superhost or not, number of guest(s), number of bath(s), number of bed(s) and average reviews ranking stars. All those information are retrieved from the url of each Airbnb property."
   ]
  },
  {
   "cell_type": "markdown",
   "metadata": {},
   "source": [
    "Retrieving all the informations directly from the Airbnb site takes a lot of time. In order to avoid to do this work each time, we saved all the data in the file `airbnb_newdata.csv` that is present in the GitHub repository. \n",
    "\n",
    "All the informations were taken from Airbnb thanks to the library `Beautiful Soup`. Some rooms do not exist anymore or are missing some data, in those case the rooms are filles with Nan."
   ]
  },
  {
   "cell_type": "code",
   "execution_count": 11,
   "metadata": {},
   "outputs": [],
   "source": [
    "# Creating data by saving simultaneously\n",
    "\n",
    "# This process will do just one time since it takes some time. We upload the file on GitHub, you can reach there.\n",
    "\n",
    "path = r'D:\\\\Data Science\\\\ADM(Algorithmic Methods of Data Mining)\\\\hw\\\\hw3\\\\hw3 data\\\\'\n",
    "\n",
    "file_index = []\n",
    "with open(path + 'airbnb_newdata.csv', encoding='utf-8') as csvfile:\n",
    "    readCSV = csv.reader(csvfile)\n",
    "    \n",
    "    for row in readCSV:\n",
    "        file_index.append(row[1])\n",
    "file_index = list(map(str, file_index))        \n",
    "csvfile.close()\n",
    "    \n",
    "\n",
    "for row in f.values:\n",
    "    try:\n",
    "        check_file_index = str(row[0])\n",
    "        \n",
    "        if check_file_index not in set(file_index):\n",
    "            url = str(row[9])\n",
    "            content = requests.get(url)\n",
    "            soup = BeautifulSoup(content.text, \"lxml\")\n",
    "\n",
    "            newrow = list(row)\n",
    "\n",
    "            newrow.append(listing_amenities(content, soup)[0])\n",
    "            newrow.append(listing_amenities(content, soup)[1])\n",
    "            newrow.append(is_superhost(content, soup))\n",
    "            newrow.append(guest_no(content, soup))\n",
    "            newrow.append(bath_type(content, soup))\n",
    "            newrow.append(bed_no(content, soup))\n",
    "            newrow.append(rating_value_reviews(content, soup))\n",
    "\n",
    "            newrow = pd.DataFrame([newrow]) \n",
    "\n",
    "            newrow.to_csv(path + 'airbnb_newdata.csv', mode='a', header=False, encoding='utf-8')\n",
    "    \n",
    "    except:\n",
    "        pass # at some point Airbnb can block to you to enter the url that we're trying to get some more information."
   ]
  },
  {
   "cell_type": "code",
   "execution_count": null,
   "metadata": {
    "scrolled": true
   },
   "outputs": [],
   "source": [
    "# opening new data that we created with new variables\n",
    "\n",
    "# remember that some links are not still alive, in that case we got all NaN.\n",
    "\n",
    "path = r'D:\\\\Data Science\\\\ADM(Algorithmic Methods of Data Mining)\\\\hw\\\\hw3\\\\hw3 data\\\\'\n",
    "f = pd.read_csv(path + 'airbnb_newdata.csv', index_col=None)"
   ]
  },
  {
   "cell_type": "code",
   "execution_count": null,
   "metadata": {},
   "outputs": [],
   "source": [
    "# Create a list for all amenities \n",
    "\n",
    "all_amenities = []\n",
    "for i in range(len(f.iloc[:,11])):\n",
    "    row = f.iloc[:,11][i]\n",
    "    if not(pd.isnull(row)):\n",
    "        row_list = row.split(\",\")\n",
    "        for j in range(len(row_list)):\n",
    "            if row_list[j] not in all_amenities:\n",
    "                all_amenities.append(row_list[j])\n"
   ]
  },
  {
   "cell_type": "code",
   "execution_count": 14,
   "metadata": {},
   "outputs": [],
   "source": [
    "# Create check button so that the guest can choose features for place\n",
    "from tkinter import *\n",
    "def pick_features():\n",
    "    Window = Tk()\n",
    "    Window.config(bg='white')\n",
    "    var = []\n",
    "    choices = []\n",
    "\n",
    "    def save_choices():\n",
    "        for v in var:\n",
    "            choices.append(False) if v.get() ==\"off\" else choices.append(True)\n",
    "    \n",
    "    Label(Window, text=\"Please, choose your amenities preference\",fg='black',bg='white',font=(\"Arial Bold\", 15)).grid(row=0,column=1)\n",
    "    \n",
    "    row = 1   \n",
    "    col = 0\n",
    "    for i in range(len(all_amenities)):\n",
    "        var.append(StringVar())\n",
    "        for v in var:\n",
    "            v.set(\"off\")\n",
    "        Checkbutton(Window, text=all_amenities[i], variable=var[-1],onvalue='on', offvalue='off',\n",
    "                   activebackground=\"green\",bg='white',fg='black').grid(row=row,column=col)\n",
    "        #cb.pack()\n",
    "\n",
    "        row += 1\n",
    "        if row>math.ceil(len(all_amenities)/4):\n",
    "            col += 1; row = 1\n",
    "\n",
    "    Button(Window, text=\"Please, send your preference\", command=save_choices,\n",
    "           font=(\"Arial Bold\", 10),fg='green',bg='white').grid(row=row+1,column=col)\n",
    "    Button(Window, text=\"QUIT\", command=Window.destroy, font=(\"Arial Bold\", 10),\n",
    "           fg='red',bg='white').grid(row=row+2,column=col)\n",
    "\n",
    "    Window.mainloop()\n",
    "\n",
    "    choosen_index = numpy.where(choices)[0]\n",
    "    choosen = list(pd.Series(all_amenities)[choosen_index])\n",
    "    return choosen"
   ]
  },
  {
   "cell_type": "markdown",
   "metadata": {},
   "source": [
    "### USER QUERIES"
   ]
  },
  {
   "cell_type": "markdown",
   "metadata": {},
   "source": [
    "After the inizialization part, it is time to start asking the user what are his preferences. \n",
    "\n",
    "We ask the customer 5 questions:\n",
    "1. Where do you want to go? \n",
    "2. How much do you want to spend?\n",
    "3. How many bedrooms do you want?\n",
    "4. How many guest will stay?\n",
    "5. Which place's amenities do you want?\n",
    "\n",
    "Once the user answers these questions, we start to give a rank to each rooms. How the ranking is assigned is described later."
   ]
  },
  {
   "cell_type": "code",
   "execution_count": 15,
   "metadata": {
    "scrolled": false
   },
   "outputs": [
    {
     "name": "stdout",
     "output_type": "stream",
     "text": [
      "Where do you want to go?\n",
      "dallas\n",
      "How much do you want to spend?\n",
      "150\n",
      "How many bedrooms do you want?\n",
      "2\n",
      "How many guest will stay?\n",
      "4\n",
      "Which place's amenities do you want?\n",
      "\n",
      "['Kitchen', 'Wifi', 'Air conditioning', 'Breakfast']\n"
     ]
    }
   ],
   "source": [
    "# asking the user where he/she wanna go\n",
    "user_city = input('Where do you want to go?\\n')\n",
    "\n",
    "# asking the user how much he want to spend\n",
    "user_price = input('How much do you want to spend?\\n')\n",
    "\n",
    "# asking the user how many bedrooms the client wants\n",
    "user_bedroom = input('How many bedrooms do you want?\\n')\n",
    "\n",
    "# asking the user how many guest will stay\n",
    "user_guest = input('How many guest will stay?\\n')\n",
    "\n",
    "# asking the user which place's amenities the client wants\n",
    "print(\"Which place's amenities do you want?\\n\")\n",
    "user_amenities = pick_features()\n",
    "print(user_amenities)"
   ]
  },
  {
   "cell_type": "markdown",
   "metadata": {},
   "source": [
    "###### Check Button\n",
    "The number of features that an apartment/room could have is really high. To make the user more comfortable with the choice, we have created an interactive windows where the customer is able to select his preferred features.\n",
    "\n",
    "We will take user choice(s) for their amenities peference by using check button, which is figured below."
   ]
  },
  {
   "cell_type": "markdown",
   "metadata": {},
   "source": [
    "![](CheckButton.PNG?raw=true)"
   ]
  },
  {
   "cell_type": "markdown",
   "metadata": {},
   "source": [
    "#### CITY RANKING\n",
    "\n",
    "The most important decision that the custumer has to make is where to go. In this part we give a score in the range [0, 1].\n",
    "\n",
    "A score close to one means that the distance between the analyzed room and the location given by the user is closed to zero. More than a room is far from the user choice, more that room city rank goes to zero.\n",
    "\n",
    "In order to give a score we decided to use the cumulative distribution function, in this form:\n",
    "\n",
    "$ city Rank = 1 - \\frac{x - minimum}{maximum - minimum} $\n",
    "\n",
    "where x is the location of the room being analyzed, minimum is the closest room to the user location and maximum is the farest room from the user loc."
   ]
  },
  {
   "cell_type": "code",
   "execution_count": 16,
   "metadata": {},
   "outputs": [],
   "source": [
    "# taking from the dataframe only the cities with their means of coordinates\n",
    "f['city'] = list(map(lambda x: x.lower(), f['city']))\n",
    "f.at[1216, 'latitude'] = 31.498774\n",
    "f.at[1216, 'longitude'] = -94.345574\n",
    "geo_city = f.groupby('city').mean().filter(['latitude', 'longitude'])"
   ]
  },
  {
   "cell_type": "code",
   "execution_count": 17,
   "metadata": {},
   "outputs": [
    {
     "name": "stdout",
     "output_type": "stream",
     "text": [
      "Coordinates for the request city:  (32.84701372104991, -96.78911736186348)\n"
     ]
    }
   ],
   "source": [
    "# find the coordinates for the inserted city\n",
    "coord_city = (geo_city[geo_city.index == user_city]['latitude'].values[0], geo_city[geo_city.index == user_city]['longitude'].values[0])\n",
    "print('Coordinates for the request city: ', coord_city)"
   ]
  },
  {
   "cell_type": "code",
   "execution_count": 18,
   "metadata": {},
   "outputs": [],
   "source": [
    "# fill the NaN latitudine and longitude with the mean location of the city \n",
    "for i in f[numpy.isnan(f.latitude)].index:\n",
    "    latitude = (geo_city.loc[(f.loc[i, 'city'])][0])\n",
    "    longitude = (geo_city.loc[(f.loc[i, 'city'])][1])\n",
    "\n",
    "    f.at[i, 'latitude'] = latitude\n",
    "    f.at[i, 'longitude'] = longitude"
   ]
  },
  {
   "cell_type": "code",
   "execution_count": 19,
   "metadata": {},
   "outputs": [],
   "source": [
    "# distance betweeen user coords and room coords \n",
    "dist = []\n",
    "\n",
    "index = 0\n",
    "for i in f.index:\n",
    "    dist.append(distance.distance((f.loc[i, 'latitude'], f.loc[i, 'longitude']), coord_city).km)  \n"
   ]
  },
  {
   "cell_type": "code",
   "execution_count": 20,
   "metadata": {},
   "outputs": [],
   "source": [
    "# rankings for city\n",
    "rankings_city = {}\n",
    "for i in range(len(dist)):\n",
    "    if(dist[i] >= 0):\n",
    "        rankings_city[i] = 1 - ((dist[i] - min(dist) ) / (max(dist)- min(dist)))\n",
    "    else:\n",
    "        rankings_city[i] = None\n",
    "rankings_city    \n",
    "f['city_rank'] = rankings_city.values()"
   ]
  },
  {
   "cell_type": "code",
   "execution_count": 21,
   "metadata": {},
   "outputs": [],
   "source": [
    "rankings_city = {}\n",
    "rang  = max(dist) - min(dist) \n",
    "\n",
    "# rank to each city in Texas. Highest ranks are for the closest cities to the user's one. \n",
    "for city in geo_city.index:\n",
    "    coord = (geo_city[geo_city.index == city]['latitude'].values[0], geo_city[geo_city.index == city]['longitude'].values[0])\n",
    "    rank = 1 - ((distance.distance(coord, coord_city).km - min(dist)) / rang)\n",
    "    rankings_city[city] = rank"
   ]
  },
  {
   "cell_type": "markdown",
   "metadata": {},
   "source": [
    "#### PRICE RANKING\n",
    "Another important decision of the user is how much he want to spend. Since the prices of the rooms and apartments vary a lot, we have decided to give a score, in [0,1], close to 1 if the room price is close to the customer pick, or close to zero otherwise.\n",
    "\n",
    "The range between the cheapest and the more expensive rooms is really high, so it does not make sense to use the uniform distribution as in the previous section. In this part we found that the logarithm was a good choice to normalized the rank.\n",
    "\n",
    "The formula used was:\n",
    "\n",
    "$priceRank = 1 - \\frac {log (priceDistance + 1)}{10}$\n",
    "\n",
    "where priceDistance is the distance between the user decision and the analyzed room."
   ]
  },
  {
   "cell_type": "code",
   "execution_count": 22,
   "metadata": {},
   "outputs": [],
   "source": [
    "# column of average price without the '$' char\n",
    "f['price_rank'] = list(map(lambda x: str(x)[1:], f['average_rate_per_night']))"
   ]
  },
  {
   "cell_type": "code",
   "execution_count": 23,
   "metadata": {},
   "outputs": [],
   "source": [
    "# distances between the average price of the room and the user price\n",
    "price_dist=[]\n",
    "for i in f.price_rank.values:\n",
    "    try:\n",
    "        price_dist.append(abs((int(i)) - int(user_price ))  )\n",
    "    except:\n",
    "        price_dist.append(-1)"
   ]
  },
  {
   "cell_type": "code",
   "execution_count": 24,
   "metadata": {},
   "outputs": [],
   "source": [
    "# taking the range (min and max) from the distances\n",
    "minimum = price_dist[0]\n",
    "for i in price_dist:\n",
    "        if i < minimum and not(i == -1):\n",
    "            minimum = i\n",
    "rang = max(price_dist) - minimum           "
   ]
  },
  {
   "cell_type": "code",
   "execution_count": 25,
   "metadata": {},
   "outputs": [],
   "source": [
    "# finding the rankings\n",
    "# logarithm cause the range min-max is really high\n",
    "rankings_price = {}\n",
    "for i in range(len(price_dist)):\n",
    "    if(price_dist[i] >= 0):\n",
    "        rankings_price[i] = 1-(numpy.log(price_dist[i]+1))/10\n",
    "    else:\n",
    "        rankings_price[i] = None\n",
    "rankings_price    \n",
    "f['price_rank'] = rankings_price.values()"
   ]
  },
  {
   "cell_type": "markdown",
   "metadata": {},
   "source": [
    "#### BEDROOM RANKING\n",
    "\n",
    "Third decision of the user is the number of rooms. The score is always a number in [0,1] assigned in the same way as described above. \n",
    "\n",
    "It was possible to use the uniform distribution as in the city rank, as shown here:\n",
    "\n",
    "$ bedroom Rank = 1 - \\frac{x - minimum}{maximum - minimum} $\n"
   ]
  },
  {
   "cell_type": "code",
   "execution_count": 26,
   "metadata": {},
   "outputs": [],
   "source": [
    "# taking the distances between the #bedrooms of the room and the user number\n",
    "room_dist=[]\n",
    "for i in f.bedrooms_count.values:\n",
    "    try:\n",
    "        if i == 'Studio':\n",
    "            room_dist.append(abs(1.5 - int(user_bedroom )))\n",
    "        else:\n",
    "            room_dist.append(abs( (int(i)) - int(user_bedroom)))\n",
    "    except:\n",
    "        room_dist.append(-1)"
   ]
  },
  {
   "cell_type": "code",
   "execution_count": 27,
   "metadata": {},
   "outputs": [],
   "source": [
    "# taking the range (min and max) from the distances\n",
    "minimum = room_dist[0]\n",
    "for i in room_dist:\n",
    "        if i < minimum and not(i == -1):\n",
    "            minimum = i\n",
    "rang = max(room_dist) - minimum           "
   ]
  },
  {
   "cell_type": "code",
   "execution_count": 28,
   "metadata": {},
   "outputs": [],
   "source": [
    "# finding the rankings for bedrooms\n",
    "rankings_bedroom = {}\n",
    "for i in range(len(room_dist)):\n",
    "    if(room_dist[i] >= 0):\n",
    "        rankings_bedroom[i] = 1 - ((room_dist[i] - minimum ) / rang)\n",
    "    else:\n",
    "        rankings_bedroom[i] = None\n",
    "rankings_bedroom    \n",
    "f['bedroom_rank'] = rankings_bedroom.values()"
   ]
  },
  {
   "cell_type": "markdown",
   "metadata": {},
   "source": [
    "#### GUEST RANKING\n",
    "Forth decision of the user is the number of guest that will be present. Same as before a rank in [0,1] is given, always with the uniform distribution that follows.\n",
    "\n",
    "$ guest Rank = 1 - \\frac{x - minimum}{maximum - minimum} $\n"
   ]
  },
  {
   "cell_type": "code",
   "execution_count": 29,
   "metadata": {
    "scrolled": true
   },
   "outputs": [],
   "source": [
    "# taking the distances between the #guest who can stay in the host's plae and the user number\n",
    "guest_dist = []\n",
    "for i in f.guest.values:\n",
    "    try:\n",
    "        guest_dist.append(abs((int(i)) - int(user_guest)))\n",
    "    except:\n",
    "        guest_dist.append(-1)"
   ]
  },
  {
   "cell_type": "code",
   "execution_count": 30,
   "metadata": {},
   "outputs": [],
   "source": [
    "# taking the range (min and max) from the distances\n",
    "minimum = guest_dist[0]\n",
    "for i in guest_dist:\n",
    "        if i < minimum and not(i == -1):\n",
    "            minimum = i\n",
    "range_guest = max(guest_dist) - minimum   "
   ]
  },
  {
   "cell_type": "code",
   "execution_count": 31,
   "metadata": {},
   "outputs": [],
   "source": [
    "# finding the rankings for guest number\n",
    "rankings_guest = {}\n",
    "for i in range(len(guest_dist)):\n",
    "    if(guest_dist[i] >= 0):\n",
    "        rankings_guest[i] = 1 - ((guest_dist[i] - minimum ) / range_guest)\n",
    "    else:\n",
    "        rankings_guest[i] = None\n",
    "rankings_guest    \n",
    "f['guest_rank'] = rankings_guest.values()"
   ]
  },
  {
   "cell_type": "markdown",
   "metadata": {},
   "source": [
    "#### REVIEWS STAR RANKING\n",
    "Since the guest can vote the host from 0 to 5, it is already scaled. We will just standardized it."
   ]
  },
  {
   "cell_type": "code",
   "execution_count": 130,
   "metadata": {},
   "outputs": [],
   "source": [
    "stars = [None if pd.isnull(s) else int(s)/5 for s in f.stars]\n",
    "f['stars_rank'] = stars"
   ]
  },
  {
   "cell_type": "markdown",
   "metadata": {},
   "source": [
    "#### AMENITIES RANKING\n",
    "\n",
    "The amenities rank is related to the numbers of the features that a room/apartment gives according to the user choises. More amenities the room have, higher is its rank. "
   ]
  },
  {
   "cell_type": "code",
   "execution_count": 32,
   "metadata": {},
   "outputs": [],
   "source": [
    "# finding the rankings for amenities\n",
    "ranking_amenities = []\n",
    "for i in f.amenities.values:\n",
    "    try:\n",
    "        count = 0\n",
    "        for j in user_amenities:\n",
    "            if j in i:\n",
    "                count += 1\n",
    "        ranking_amenities.append(round(count/len(user_amenities),2))\n",
    "    except:\n",
    "        ranking_amenities.append(None)\n",
    "ranking_amenities\n",
    "f['amenities_rank'] = ranking_amenities"
   ]
  },
  {
   "cell_type": "markdown",
   "metadata": {},
   "source": [
    "#### SUPERHOST RANKING\n",
    "With the info taken from the links we were able to know if the host is a Superhost or not. "
   ]
  },
  {
   "cell_type": "markdown",
   "metadata": {},
   "source": [
    "#### FINAL RANKING\n",
    "Calculated all the different rankings, it is time to assign a final rank to each room. We decided to give different weights to all the ranks according to what we consider more important. \n",
    "\n",
    "These are the weights (in percentage):\n",
    "\n",
    "- location: 70%\n",
    "- price: 10%\n",
    "- number of guest: 7%\n",
    "- number of amenties: 4%\n",
    "- number of bedrooms: 4%\n",
    "- number of stars: 3%\n",
    "- superhost: 2%\n",
    "\n",
    "If one of the rankings is missing, its weight is redistributed through the others."
   ]
  },
  {
   "cell_type": "code",
   "execution_count": 136,
   "metadata": {
    "scrolled": true
   },
   "outputs": [],
   "source": [
    "# giving weithed priority to the different rankings\n",
    "\n",
    "# weights\n",
    "w1 = 0.10 #for price \n",
    "w2 = 0.02 #for superhost\n",
    "w3 = 0.03 #for reviews stars\n",
    "w4 = 0.70 #for city ranking\n",
    "w5 = 0.04 #for bedroom \n",
    "w6 = 0.07 #for guest \n",
    "w7 = 0.04 #for amenities \n",
    "w = [w1, w2, w3, w4, w5, w6, w7]\n",
    "\n",
    "# our criterias\n",
    "cri =  ['price_rank','superhost','city_rank','bedroom_rank','guest_rank','stars_rank','amenities_rank']\n",
    "\n",
    "rank = []\n",
    "\n",
    "for i in f.index:\n",
    "    nan_idx = []\n",
    "    func_idx = []\n",
    "    for j in range(len(f.loc[i,cri])):\n",
    "        if (str(f.loc[i,cri][j])=='nan') or (f.loc[i,cri][j] is None):\n",
    "            nan_idx.append(j) # if we have nan or none, add nan indexes\n",
    "        else:\n",
    "            func_idx.append(j) # otherwise, add them to use in function\n",
    "            \n",
    "    add_up = sum(pd.Series(w)[nan_idx])/(len(w)-len(nan_idx)) # find the averange weight to add up the weight that will be in our formula\n",
    "    updated_weights = list(pd.Series(w)[func_idx]+add_up) # split the weights which come from nan/none variables\n",
    "    updated_cri = list(pd.Series(cri)[func_idx]) # criterias which we will use in our formula\n",
    "    \n",
    "    r = 0\n",
    "    for c in range(len(updated_weights)):\n",
    "        if updated_cri[c] == 'superhost':\n",
    "            if f.loc[i,updated_cri[c]] == 'T':\n",
    "                superhost_rank = 1\n",
    "            else:\n",
    "                superhost_rank = 0\n",
    "                \n",
    "            r = r + superhost_rank*updated_weights[c]\n",
    "        else:\n",
    "            r = r + f.loc[i,updated_cri[c]]*updated_weights[c] # formula = criteria1*w1 + criteria2*w2 + ...\n",
    "    \n",
    "    # rank.append(str(round(r*100, 3)) + '%')\n",
    "    rank.append(round(r*100, 3))\n",
    "    \n",
    "f['final_rank'] = rank       "
   ]
  },
  {
   "cell_type": "code",
   "execution_count": 166,
   "metadata": {},
   "outputs": [
    {
     "data": {
      "text/html": [
       "<style  type=\"text/css\" >\n",
       "</style>  \n",
       "<table id=\"T_ba0c8ce4_f02f_11e8_ad3b_b0359fbebaa8\" > \n",
       "<thead>    <tr> \n",
       "        <th class=\"col_heading level0 col0\" >title</th> \n",
       "        <th class=\"col_heading level0 col1\" >description</th> \n",
       "        <th class=\"col_heading level0 col2\" >city</th> \n",
       "        <th class=\"col_heading level0 col3\" >url</th> \n",
       "    </tr></thead> \n",
       "<tbody>    <tr> \n",
       "        <td id=\"T_ba0c8ce4_f02f_11e8_ad3b_b0359fbebaa8row0_col0\" class=\"data row0 col0\" >Tudor Home Guest House</td> \n",
       "        <td id=\"T_ba0c8ce4_f02f_11e8_ad3b_b0359fbebaa8row0_col1\" class=\"data row0 col1\" >Charming 2 bedroom guest house. Large kitchen/dining. 1 large bath. Private garden entrance. Walk to the Arboretum, White Rock Lake, shops, bars, dining, etc. $150 per night up to 4 ppl. $25 per night for each additional. $50 cleaning fee .</td> \n",
       "        <td id=\"T_ba0c8ce4_f02f_11e8_ad3b_b0359fbebaa8row0_col2\" class=\"data row0 col2\" >dallas</td> \n",
       "        <td id=\"T_ba0c8ce4_f02f_11e8_ad3b_b0359fbebaa8row0_col3\" class=\"data row0 col3\" >https://www.airbnb.com/rooms/6324590?location=Balch%20Springs%2C%20TX</td> \n",
       "    </tr>    <tr> \n",
       "        <td id=\"T_ba0c8ce4_f02f_11e8_ad3b_b0359fbebaa8row1_col0\" class=\"data row1 col0\" >Eclectic Industrial Loft in Deep Ellum.</td> \n",
       "        <td id=\"T_ba0c8ce4_f02f_11e8_ad3b_b0359fbebaa8row1_col1\" class=\"data row1 col1\" >The loft is in a prime location with true walkability to all things Deep Ellum while offering the conveniences of a home: stainless steel appliances, updated bathroom, washer/dryer, wifi, gated/covered parking, open kitchen/den floor plan and split bedrooms – one up, one down. You will get the full historic experience of Deep Ellum with the industrial finish out which includes, soaring 20 ft ceilings, exposed brick &amp; ductwork, and concrete floors. Access to common rooftop for skyline views.</td> \n",
       "        <td id=\"T_ba0c8ce4_f02f_11e8_ad3b_b0359fbebaa8row1_col2\" class=\"data row1 col2\" >dallas</td> \n",
       "        <td id=\"T_ba0c8ce4_f02f_11e8_ad3b_b0359fbebaa8row1_col3\" class=\"data row1 col3\" >https://www.airbnb.com/rooms/18895401?location=Balch%20Springs%2C%20TX</td> \n",
       "    </tr>    <tr> \n",
       "        <td id=\"T_ba0c8ce4_f02f_11e8_ad3b_b0359fbebaa8row2_col0\" class=\"data row2 col0\" >Eclectic Industrial Loft in Deep Ellum.</td> \n",
       "        <td id=\"T_ba0c8ce4_f02f_11e8_ad3b_b0359fbebaa8row2_col1\" class=\"data row2 col1\" >The loft is in a prime location with true walkability to all things Deep Ellum while offering the conveniences of a home: stainless steel appliances, updated bathroom, washer/dryer, wifi, gated/covered parking, open kitchen/den floor plan and split bedrooms – one up, one down. You will get the full historic experience of Deep Ellum with the industrial finish out which includes, soaring 20 ft ceilings, exposed brick &amp; ductwork, and concrete floors. Access to common rooftop for skyline views.</td> \n",
       "        <td id=\"T_ba0c8ce4_f02f_11e8_ad3b_b0359fbebaa8row2_col2\" class=\"data row2 col2\" >dallas</td> \n",
       "        <td id=\"T_ba0c8ce4_f02f_11e8_ad3b_b0359fbebaa8row2_col3\" class=\"data row2 col3\" >https://www.airbnb.com/rooms/18895401?location=Arlington%2C%20TX</td> \n",
       "    </tr>    <tr> \n",
       "        <td id=\"T_ba0c8ce4_f02f_11e8_ad3b_b0359fbebaa8row3_col0\" class=\"data row3 col0\" >Eclectic Industrial Loft in Deep Ellum.</td> \n",
       "        <td id=\"T_ba0c8ce4_f02f_11e8_ad3b_b0359fbebaa8row3_col1\" class=\"data row3 col1\" >The loft is in a prime location with true walkability to all things Deep Ellum while offering the conveniences of a home: stainless steel appliances, updated bathroom, washer/dryer, wifi, gated/covered parking, open kitchen/den floor plan and split bedrooms – one up, one down. You will get the full historic experience of Deep Ellum with the industrial finish out which includes, soaring 20 ft ceilings, exposed brick &amp; ductwork, and concrete floors. Access to common rooftop for skyline views.</td> \n",
       "        <td id=\"T_ba0c8ce4_f02f_11e8_ad3b_b0359fbebaa8row3_col2\" class=\"data row3 col2\" >dallas</td> \n",
       "        <td id=\"T_ba0c8ce4_f02f_11e8_ad3b_b0359fbebaa8row3_col3\" class=\"data row3 col3\" >https://www.airbnb.com/rooms/18895401?location=Carrollton%2C%20TX</td> \n",
       "    </tr>    <tr> \n",
       "        <td id=\"T_ba0c8ce4_f02f_11e8_ad3b_b0359fbebaa8row4_col0\" class=\"data row4 col0\" >Cottage charmer near TCU</td> \n",
       "        <td id=\"T_ba0c8ce4_f02f_11e8_ad3b_b0359fbebaa8row4_col1\" class=\"data row4 col1\" >One entire side of the duplex is available. Combines some style of the past with the convenience of the future. Charming cottage feel. Terrific for TCU Football, Baseball, Parent's Weekend and Graduation. Perfect for Fort Worth visitors- easy access to the Zoo, Will Roger's Coliseum, Downtown, Cultural District, shopping, dining and entertainment.\\nVery comfortable happy home! Welcome!!</td> \n",
       "        <td id=\"T_ba0c8ce4_f02f_11e8_ad3b_b0359fbebaa8row4_col2\" class=\"data row4 col2\" >fort worth</td> \n",
       "        <td id=\"T_ba0c8ce4_f02f_11e8_ad3b_b0359fbebaa8row4_col3\" class=\"data row4 col3\" >https://www.airbnb.com/rooms/18912605?location=Burleson%2C%20TX</td> \n",
       "    </tr>    <tr> \n",
       "        <td id=\"T_ba0c8ce4_f02f_11e8_ad3b_b0359fbebaa8row5_col0\" class=\"data row5 col0\" >Cottage charmer near TCU</td> \n",
       "        <td id=\"T_ba0c8ce4_f02f_11e8_ad3b_b0359fbebaa8row5_col1\" class=\"data row5 col1\" >One entire side of the duplex is available. Combines some style of the past with the convenience of the future. Charming cottage feel. Terrific for TCU Football, Baseball, Parent's Weekend and Graduation. Perfect for Fort Worth visitors- easy access to the Zoo, Will Roger's Coliseum, Downtown, Cultural District, shopping, dining and entertainment.\\nVery comfortable happy home! Welcome!!</td> \n",
       "        <td id=\"T_ba0c8ce4_f02f_11e8_ad3b_b0359fbebaa8row5_col2\" class=\"data row5 col2\" >fort worth</td> \n",
       "        <td id=\"T_ba0c8ce4_f02f_11e8_ad3b_b0359fbebaa8row5_col3\" class=\"data row5 col3\" >https://www.airbnb.com/rooms/18912605?location=Cleburne%2C%20TX</td> \n",
       "    </tr>    <tr> \n",
       "        <td id=\"T_ba0c8ce4_f02f_11e8_ad3b_b0359fbebaa8row6_col0\" class=\"data row6 col0\" >Cottage charmer near TCU</td> \n",
       "        <td id=\"T_ba0c8ce4_f02f_11e8_ad3b_b0359fbebaa8row6_col1\" class=\"data row6 col1\" >One entire side of the duplex is available. Combines some style of the past with the convenience of the future. Charming cottage feel. Terrific for TCU Football, Baseball, Parent's Weekend and Graduation. Perfect for Fort Worth visitors- easy access to the Zoo, Will Roger's Coliseum, Downtown, Cultural District, shopping, dining and entertainment.\\nVery comfortable happy home! Welcome!!</td> \n",
       "        <td id=\"T_ba0c8ce4_f02f_11e8_ad3b_b0359fbebaa8row6_col2\" class=\"data row6 col2\" >fort worth</td> \n",
       "        <td id=\"T_ba0c8ce4_f02f_11e8_ad3b_b0359fbebaa8row6_col3\" class=\"data row6 col3\" >https://www.airbnb.com/rooms/18912605?location=Benbrook%2C%20TX</td> \n",
       "    </tr>    <tr> \n",
       "        <td id=\"T_ba0c8ce4_f02f_11e8_ad3b_b0359fbebaa8row7_col0\" class=\"data row7 col0\" >Uptown House</td> \n",
       "        <td id=\"T_ba0c8ce4_f02f_11e8_ad3b_b0359fbebaa8row7_col1\" class=\"data row7 col1\" >the apartment is a great place to be</td> \n",
       "        <td id=\"T_ba0c8ce4_f02f_11e8_ad3b_b0359fbebaa8row7_col2\" class=\"data row7 col2\" >mckinney</td> \n",
       "        <td id=\"T_ba0c8ce4_f02f_11e8_ad3b_b0359fbebaa8row7_col3\" class=\"data row7 col3\" >https://www.airbnb.com/rooms/18960232?location=Carrollton%2C%20TX</td> \n",
       "    </tr>    <tr> \n",
       "        <td id=\"T_ba0c8ce4_f02f_11e8_ad3b_b0359fbebaa8row8_col0\" class=\"data row8 col0\" >Uptown House</td> \n",
       "        <td id=\"T_ba0c8ce4_f02f_11e8_ad3b_b0359fbebaa8row8_col1\" class=\"data row8 col1\" >the apartment is a great place to be</td> \n",
       "        <td id=\"T_ba0c8ce4_f02f_11e8_ad3b_b0359fbebaa8row8_col2\" class=\"data row8 col2\" >mckinney</td> \n",
       "        <td id=\"T_ba0c8ce4_f02f_11e8_ad3b_b0359fbebaa8row8_col3\" class=\"data row8 col3\" >https://www.airbnb.com/rooms/18960232?location=Anna%2C%20TX</td> \n",
       "    </tr>    <tr> \n",
       "        <td id=\"T_ba0c8ce4_f02f_11e8_ad3b_b0359fbebaa8row9_col0\" class=\"data row9 col0\" >Uptown House</td> \n",
       "        <td id=\"T_ba0c8ce4_f02f_11e8_ad3b_b0359fbebaa8row9_col1\" class=\"data row9 col1\" >the apartment is a great place to be</td> \n",
       "        <td id=\"T_ba0c8ce4_f02f_11e8_ad3b_b0359fbebaa8row9_col2\" class=\"data row9 col2\" >mckinney</td> \n",
       "        <td id=\"T_ba0c8ce4_f02f_11e8_ad3b_b0359fbebaa8row9_col3\" class=\"data row9 col3\" >https://www.airbnb.com/rooms/18960232?location=Allen%2C%20TX</td> \n",
       "    </tr></tbody> \n",
       "</table> "
      ],
      "text/plain": [
       "<pandas.io.formats.style.Styler at 0x1fc0e212dd8>"
      ]
     },
     "execution_count": 166,
     "metadata": {},
     "output_type": "execute_result"
    }
   ],
   "source": [
    "# create the max heap from the cosine similarities values and taking the k-largest values\n",
    "\n",
    "# fr includes all final rank for each doc\n",
    "fr = []\n",
    "for i in f.index:\n",
    "    fr.append(float(f.loc[i , 'final_rank']))\n",
    "    \n",
    "k = 10 # how many options we want to show\n",
    "top_k = heapq.nlargest(k, enumerate(f.final_rank), key=lambda x: x[1])\n",
    "\n",
    "indexes = [e[0] for e in top_k]\n",
    "\n",
    "# displaying the best k rooms \n",
    "\n",
    "df = f.loc[indexes].filter(items = ['title', 'description', 'city', 'url'])\n",
    "df.style.hide_index()"
   ]
  },
  {
   "cell_type": "markdown",
   "metadata": {},
   "source": [
    "## Bonus Step: Make a nice visualization!\n",
    "\n",
    "\n",
    "An important feature of Airbnb, it's the search on the map. Here we want to try to recreate a similar tool!\n",
    "\n",
    "Our tool will works in the following way:\n",
    "\n",
    "1. Takes in input a set of coordinates, e.g: [32.779594, -96.800768], and a maximum distance from the coordinates, e.g.: 10km.\n",
    "2. Generate a map, with a circle of the given radius, where the center is represented by the coordinates given in input.\n",
    "3. Shows the houses that are inside the circle of the given radius, coloring their marker according to the average price per night.\n",
    "\n",
    "The first thing that we want to do is to create our dataframe.\n"
   ]
  },
  {
   "cell_type": "code",
   "execution_count": 5,
   "metadata": {},
   "outputs": [],
   "source": [
    "f2 = f.filter(items = ['Unnamed: 0','latitude','longitude', 'title','average_rate_per_night','url'])"
   ]
  },
  {
   "cell_type": "markdown",
   "metadata": {},
   "source": [
    "Now we let the user enter coordinates and radius that he wants:"
   ]
  },
  {
   "cell_type": "code",
   "execution_count": 6,
   "metadata": {},
   "outputs": [
    {
     "name": "stdout",
     "output_type": "stream",
     "text": [
      "Enter latitude:32.779594\n",
      "Enter longitude:-96.800768\n",
      "Enter radius in km:10\n"
     ]
    }
   ],
   "source": [
    "latitude=float(input('Enter latitude:'))\n",
    "longitude=float(input('Enter longitude:'))\n",
    "radius=float(input('Enter radius in km:'))\n",
    "coord=[latitude, longitude]"
   ]
  },
  {
   "cell_type": "code",
   "execution_count": 7,
   "metadata": {},
   "outputs": [],
   "source": [
    "houses=[]\n",
    "for i in range(18259):\n",
    "    try:\n",
    "        coord_houses=[f2['latitude'][i],f2['longitude'][i]]\n",
    "        distnz=distance.distance(coord, coord_houses).km\n",
    "        if distnz<radius:\n",
    "            houses.append(i)\n",
    "    except: pass"
   ]
  },
  {
   "cell_type": "code",
   "execution_count": 8,
   "metadata": {},
   "outputs": [],
   "source": [
    "f3 = f2.loc[houses]"
   ]
  },
  {
   "cell_type": "markdown",
   "metadata": {},
   "source": [
    "Now we want to create the map. To achive that, we perform this steps:\n",
    "\n",
    "    1. Define a function that help us to visualize the price of the house associating it with the color of the marker.\n",
    "    2. Create a map centered in the point given by the user.\n",
    "    3. Add to the map a circle with given radius centered in the same point.\n",
    "    4. Add a marker for every house that we found.\n",
    "    5. Add the legend to our map.\n",
    "    6. Display the map."
   ]
  },
  {
   "cell_type": "code",
   "execution_count": 9,
   "metadata": {},
   "outputs": [],
   "source": [
    "#1 : Define the function of markers colors\n",
    "def colorfunction():\n",
    "    price= int(f3['average_rate_per_night'][house][1:])\n",
    "    if price > 500: \n",
    "        col='black'\n",
    "    if price < 500: \n",
    "        col='red'\n",
    "    if price < 100: \n",
    "        col='orange'\n",
    "    if price < 50: \n",
    "        col='green'\n",
    "    return col"
   ]
  },
  {
   "cell_type": "code",
   "execution_count": 10,
   "metadata": {},
   "outputs": [],
   "source": [
    "legenda= cm.StepColormap(['green','orange','red','black'], index=[0, 50, 100, 500], vmin=0, vmax=750)"
   ]
  },
  {
   "cell_type": "code",
   "execution_count": null,
   "metadata": {},
   "outputs": [],
   "source": [
    "#2. Create the map\n",
    "Map=folium.Map(\n",
    "    location=coord,\n",
    "    zoom_start=11, \n",
    "    tiles=\"cartoDBpositron\"\n",
    ")\n",
    "\n",
    "#3. Add the circle with radius 10 km:\n",
    "folium.Marker(\n",
    "    location=coord,\n",
    "    popup='Location',\n",
    "    icon=folium.Icon(color='blue', icon='info-sign')\n",
    ").add_to(Map)\n",
    "folium.Circle( \n",
    "    location=coord,\n",
    "    radius=radius*1000,\n",
    "    color='#3186cc',\n",
    "    fill=True,\n",
    "    fill_color='#3186cc'\n",
    ").add_to(Map)\n",
    "\n",
    "#4. Add a marker for every house\n",
    "for house in f3.T: \n",
    "    house_coord=[f3['latitude'][house],f3['longitude'][house]] #house coord\n",
    "    folium.Marker(\n",
    "    location=house_coord,\n",
    "    popup=folium.Popup('<a href=' + f3['url'][house] + '>'+f3['average_rate_per_night'][house]+' </a>'), #airbnb page of house\n",
    "    icon=folium.Icon(color=colorfunction(), icon='home')\n",
    ").add_to(Map)\n",
    "    \n",
    "#5. Add the legend\n",
    "colormap = legenda\n",
    "colormap.caption = 'Average price per night'\n",
    "Map.add_child(colormap)\n",
    "\n",
    "Map.save('ap.html')\n",
    "#6. Display the map\n",
    "Map"
   ]
  },
  {
   "cell_type": "markdown",
   "metadata": {},
   "source": [
    "NBVIEWER to see the map\n",
    "http://nbviewer.jupyter.org/github/aleflabo/ADM-HW_10/blob/master/ap.html"
   ]
  }
 ],
 "metadata": {
  "kernelspec": {
   "display_name": "Python 3",
   "language": "python",
   "name": "python3"
  },
  "language_info": {
   "codemirror_mode": {
    "name": "ipython",
    "version": 3
   },
   "file_extension": ".py",
   "mimetype": "text/x-python",
   "name": "python",
   "nbconvert_exporter": "python",
   "pygments_lexer": "ipython3",
   "version": "3.6.6"
  }
 },
 "nbformat": 4,
 "nbformat_minor": 2
}
