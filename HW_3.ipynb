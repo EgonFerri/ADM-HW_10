{
 "cells": [
  {
   "cell_type": "code",
   "execution_count": 183,
   "metadata": {},
   "outputs": [],
   "source": [
    "import pandas as pd\n",
    "from nltk.tokenize import sent_tokenize, word_tokenize, PunktSentenceTokenizer\n",
    "from nltk.corpus import stopwords\n",
    "#nltk.download()\n",
    "import string\n",
    "from nltk.stem import PorterStemmer\n",
    "from nltk import pos_tag, ne_chunk\n"
   ]
  },
  {
   "cell_type": "code",
   "execution_count": 184,
   "metadata": {},
   "outputs": [],
   "source": [
    "#file with data\n",
    "f = pd.read_csv(\"Airbnb_Texas_Rentals.csv\")"
   ]
  },
  {
   "cell_type": "code",
   "execution_count": 215,
   "metadata": {},
   "outputs": [],
   "source": [
    "#creating the .tsv files\n",
    "for i in range(f.index.max()+1):\n",
    "    op = open(r'C:\\Users\\mccol\\Desktop\\Sapienza\\ADM\\HW3\\doc\\doc_' + str(i) + '.tsv', 'w', encoding=\"utf-8\")\n",
    "    for j in range(10):\n",
    "        op.write('%s\\t' %f.iloc[i, j])\n",
    "    op.close()"
   ]
  },
  {
   "cell_type": "code",
   "execution_count": null,
   "metadata": {},
   "outputs": [],
   "source": []
  },
  {
   "cell_type": "code",
   "execution_count": 480,
   "metadata": {},
   "outputs": [
    {
     "data": {
      "text/plain": [
       "'Stylish, fully remodeled home in upscale NW – Alamo Heights Area.  Amazing location - House conveniently located in quiet street, with beautiful seasoned trees, prestigious neighborhood and very close to the airport, 281, 410 loop and down-town area.  Featuring an open floor plan, original hardwood floors, 3 bedrooms, 3 FULL bathrooms + an independent garden-TV room which can sleep 2 more European inspired kitchen and “top of the line” decor. Driveway can park 4 cars.'"
      ]
     },
     "execution_count": 480,
     "metadata": {},
     "output_type": "execute_result"
    }
   ],
   "source": [
    "# EXAMPLE with doc1\n",
    "\n",
    "op = open(r'C:\\Users\\mccol\\Desktop\\Sapienza\\ADM\\HW3\\doc\\doc_' + '1' + '.tsv', 'r', encoding=\"utf-8\")\n",
    "for line in op:\n",
    "    ou = line.strip().split('\\t')\n",
    "sentence = ou[5].replace('\\\\n\\\\n', ' ')\n",
    "sentence"
   ]
  },
  {
   "cell_type": "code",
   "execution_count": 481,
   "metadata": {},
   "outputs": [
    {
     "name": "stdout",
     "output_type": "stream",
     "text": [
      "['fulli', 'remodel', 'home', 'upscal', 'NW', 'alamo', 'height', 'area', 'amaz', 'locat', 'conveni', 'locat', 'quiet', 'street', 'beauti', 'season', 'tree', 'prestigi', 'neighborhood', 'veri', 'close', 'airport', '281', '410', 'loop', 'down-town', 'area', 'featur', 'open', 'floor', 'plan', 'origin', 'hardwood', 'floor', '3', 'bedroom', '3', 'full', 'bathroom', 'independ', 'garden-tv', 'room', 'sleep', '2', 'inspir', 'kitchen', 'top', 'line', 'decor', 'driveway', 'park', '4', 'car', 'Stylish', 'House', 'European']\n"
     ]
    }
   ],
   "source": [
    "#finding only meaning words excluding stopwords and punctuation\n",
    "stopWords = set(stopwords.words('english'))\n",
    "ps = PorterStemmer()\n",
    "\n",
    "#creating two list\n",
    "#names: contains proper names like 'New York', San Francisco', 'Frank' or 'Google'\n",
    "#l: all the other words\n",
    "names = []\n",
    "l = []\n",
    "for chunk in ne_chunk(pos_tag(word_tokenize(sentence))) : \n",
    "    if type(chunk) is nltk.tree.Tree:\n",
    "        s = ''\n",
    "        for  i in chunk:\n",
    "            s = s + ' ' + i[0]\n",
    "        names.append(s[1:])\n",
    "    else:\n",
    "        l.append(chunk[0])\n",
    "\n",
    "final = []\n",
    "#excluding stopwords and punctuation signs\n",
    "for i in l:\n",
    "    if not((ps.stem(i) in stopWords) or (ps.stem(i) in (string.punctuation + '–“”') )):\n",
    "        final.append(ps.stem(i))\n",
    "print(final + names)"
   ]
  },
  {
   "cell_type": "code",
   "execution_count": null,
   "metadata": {},
   "outputs": [],
   "source": []
  },
  {
   "cell_type": "code",
   "execution_count": null,
   "metadata": {},
   "outputs": [],
   "source": []
  },
  {
   "cell_type": "code",
   "execution_count": null,
   "metadata": {},
   "outputs": [],
   "source": []
  },
  {
   "cell_type": "code",
   "execution_count": null,
   "metadata": {},
   "outputs": [],
   "source": []
  },
  {
   "cell_type": "code",
   "execution_count": null,
   "metadata": {},
   "outputs": [],
   "source": []
  }
 ],
 "metadata": {
  "kernelspec": {
   "display_name": "Python 3",
   "language": "python",
   "name": "python3"
  },
  "language_info": {
   "codemirror_mode": {
    "name": "ipython",
    "version": 3
   },
   "file_extension": ".py",
   "mimetype": "text/x-python",
   "name": "python",
   "nbconvert_exporter": "python",
   "pygments_lexer": "ipython3",
   "version": "3.6.6"
  }
 },
 "nbformat": 4,
 "nbformat_minor": 2
}
