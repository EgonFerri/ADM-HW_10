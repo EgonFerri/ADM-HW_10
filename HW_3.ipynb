{
 "cells": [
  {
   "cell_type": "code",
   "execution_count": 4,
   "metadata": {},
   "outputs": [],
   "source": [
    "import pandas as pd\n",
    "from nltk.tokenize import sent_tokenize, word_tokenize, PunktSentenceTokenizer\n",
    "from nltk.corpus import stopwords\n",
    "#nltk.download()\n",
    "import string\n",
    "from nltk.stem import PorterStemmer\n",
    "from nltk import pos_tag, ne_chunk\n",
    "import nltk"
   ]
  },
  {
   "cell_type": "code",
   "execution_count": 5,
   "metadata": {},
   "outputs": [],
   "source": [
    "#file with data\n",
    "f = pd.read_csv(r'C:\\Users\\mccol\\Desktop\\Sapienza\\ADM\\HW3\\Airbnb_Texas_Rentals.csv')"
   ]
  },
  {
   "cell_type": "code",
   "execution_count": 6,
   "metadata": {},
   "outputs": [],
   "source": [
    "#creating the .tsv files\n",
    "for i in range(f.index.max()+1):\n",
    "    op = open(r'C:\\Users\\mccol\\Desktop\\Sapienza\\ADM\\HW3\\doc\\doc_' + str(i) + '.tsv', 'w', encoding=\"utf-8\")\n",
    "    for j in range(10):\n",
    "        op.write('%s\\t' %f.iloc[i, j])\n",
    "    op.close()"
   ]
  },
  {
   "cell_type": "markdown",
   "metadata": {},
   "source": [
    "### CREATING THE VOCABULARY"
   ]
  },
  {
   "cell_type": "code",
   "execution_count": 19,
   "metadata": {},
   "outputs": [],
   "source": [
    "#FUNCTIONS\n",
    "def preprocess(l):\n",
    "    final = []\n",
    "    for i in l:\n",
    "        if not((ps.stem(i) in stopWords) or (ps.stem(i) in (string.punctuation) )):\n",
    "            final.append(ps.stem(i))\n",
    "    return (final)\n",
    "\n",
    "def vocabularization(vocabulary, final, index):\n",
    "    for word in final:\n",
    "        if not(word in vocabulary):\n",
    "            vocabulary[word] = index\n",
    "            index = index + 1\n",
    "    return(vocabulary, index)\n",
    "\n",
    "def chunking(sentence):\n",
    "    names = []\n",
    "    l = []\n",
    "    for chunk in ne_chunk(pos_tag(word_tokenize(sentence))) : \n",
    "        if type(chunk) is nltk.tree.Tree:\n",
    "            s = ''\n",
    "            for  i in chunk:\n",
    "                s = s + ' ' + i[0]\n",
    "            names.append(s[1:])\n",
    "        else:\n",
    "            l.append(chunk[0])\n",
    "    return(names, l)"
   ]
  },
  {
   "cell_type": "code",
   "execution_count": 23,
   "metadata": {},
   "outputs": [],
   "source": [
    "stopWords = set(stopwords.words('english'))\n",
    "ps = PorterStemmer()\n",
    "string.punctuation = string.punctuation + '–“”’'\n",
    "\n",
    "vocabulary= {}\n",
    "index = 0\n",
    "\n",
    "for i in range(18259):\n",
    "    \n",
    "    op = open(r'C:\\Users\\mccol\\Desktop\\Sapienza\\ADM\\HW3\\doc\\doc_' + str(i) + '.tsv', 'r', encoding=\"utf-8\")\n",
    "    for line in op:\n",
    "        ou = line.strip().split('\\t')\n",
    "        sentence = ou[5].replace('\\\\n', ' ').replace('/', ' ').replace('*', ' ').replace('\\\\r', ' ').replace('\\\\t', ' ') + ' ' + ou[8]\n",
    "    op.close()\n",
    "    \n",
    "    #splitting the sentence into chunks recognised through tags\n",
    "    #names, l = chunking(sentence) \n",
    "    \n",
    "    #preprocessing data deleting stop words, punctuations, ecc.  \n",
    "    #final = preprocess(l) + names\n",
    "    final = preprocess(word_tokenize(sentence))\n",
    "    \n",
    "    # IF  word not in vocabulary -> add the word\n",
    "    vocabulary, index = vocabularization(vocabulary, final, index)\n",
    "            \n",
    "op = open(r'C:\\Users\\mccol\\Desktop\\Sapienza\\ADM\\HW3\\vocabulary.txt', 'w', encoding=\"utf-8\")\n",
    "op.write(str(vocabulary))\n",
    "op.close()"
   ]
  },
  {
   "cell_type": "code",
   "execution_count": null,
   "metadata": {},
   "outputs": [],
   "source": []
  },
  {
   "cell_type": "markdown",
   "metadata": {},
   "source": [
    "### INVERTED INDEX"
   ]
  },
  {
   "cell_type": "code",
   "execution_count": 26,
   "metadata": {},
   "outputs": [
    {
     "ename": "KeyError",
     "evalue": "'trip.2'",
     "output_type": "error",
     "traceback": [
      "\u001b[1;31m---------------------------------------------------------------------------\u001b[0m",
      "\u001b[1;31mKeyError\u001b[0m                                  Traceback (most recent call last)",
      "\u001b[1;32m<ipython-input-26-f5518fdd0414>\u001b[0m in \u001b[0;36m<module>\u001b[1;34m\u001b[0m\n\u001b[0;32m     17\u001b[0m     \u001b[1;31m#CREATING INVERTED INDEX\u001b[0m\u001b[1;33m\u001b[0m\u001b[1;33m\u001b[0m\u001b[0m\n\u001b[0;32m     18\u001b[0m     \u001b[1;32mfor\u001b[0m \u001b[0mword\u001b[0m \u001b[1;32min\u001b[0m \u001b[0mfinal\u001b[0m\u001b[1;33m:\u001b[0m\u001b[1;33m\u001b[0m\u001b[0m\n\u001b[1;32m---> 19\u001b[1;33m         \u001b[0mindex\u001b[0m \u001b[1;33m=\u001b[0m \u001b[0mvocabulary\u001b[0m\u001b[1;33m[\u001b[0m\u001b[0mword\u001b[0m\u001b[1;33m]\u001b[0m\u001b[1;33m\u001b[0m\u001b[0m\n\u001b[0m\u001b[0;32m     20\u001b[0m         \u001b[1;32mif\u001b[0m \u001b[1;32mnot\u001b[0m \u001b[1;33m(\u001b[0m\u001b[0mindex\u001b[0m \u001b[1;32min\u001b[0m \u001b[0minverted_index\u001b[0m\u001b[1;33m)\u001b[0m\u001b[1;33m:\u001b[0m\u001b[1;33m\u001b[0m\u001b[0m\n\u001b[0;32m     21\u001b[0m             \u001b[0minverted_index\u001b[0m\u001b[1;33m[\u001b[0m\u001b[0mindex\u001b[0m\u001b[1;33m]\u001b[0m \u001b[1;33m=\u001b[0m \u001b[1;33m[\u001b[0m\u001b[1;34m'doc_'\u001b[0m \u001b[1;33m+\u001b[0m \u001b[0mstr\u001b[0m\u001b[1;33m(\u001b[0m\u001b[0mfile\u001b[0m\u001b[1;33m)\u001b[0m\u001b[1;33m]\u001b[0m\u001b[1;33m\u001b[0m\u001b[0m\n",
      "\u001b[1;31mKeyError\u001b[0m: 'trip.2'"
     ]
    }
   ],
   "source": [
    "inverted_index = {}\n",
    "\n",
    "for file in range(18259):\n",
    "\n",
    "    op = open(r'C:\\Users\\mccol\\Desktop\\Sapienza\\ADM\\HW3\\doc\\doc_' + str(file) + '.tsv', 'r', encoding=\"utf-8\")\n",
    "    for line in op:\n",
    "        ou = line.strip().split('\\t')\n",
    "        sentence = ou[5].replace('\\\\n', ' ').replace('/', ' ').replace('*', ' ').replace('\\\\r', ' ').replace('\\\\t', ' ') + ou[8]\n",
    "    op.close()\n",
    " \n",
    "    #names, l = chunking(sentence) \n",
    "    \n",
    "    #preprocessing data deleting stop words, punctuations, ecc.  \n",
    "    #final = preprocess(l) + names\n",
    "    final = preprocess(word_tokenize(sentence))\n",
    "\n",
    "    #CREATING INVERTED INDEX\n",
    "    for word in final:\n",
    "        index = vocabulary[word]\n",
    "        if not (index in inverted_index):\n",
    "            inverted_index[index] = ['doc_' + str(file)]\n",
    "        elif not('doc_' + str(file) in inverted_index[index]):\n",
    "            inverted_index[index] = inverted_index[index] + ['doc_' + str(file)]\n",
    "\n",
    "op = open(r'C:\\Users\\mccol\\Desktop\\Sapienza\\ADM\\HW3\\inverted_index.txt', 'w', encoding=\"utf-8\")\n",
    "op.write(str(inverted_index))\n",
    "op.close()"
   ]
  },
  {
   "cell_type": "code",
   "execution_count": null,
   "metadata": {},
   "outputs": [],
   "source": [
    "#HANDLING USER INPUT\n",
    "user_query = input()\n",
    "l = []\n",
    "names = []\n",
    "for chunk in ne_chunk(pos_tag(word_tokenize(user_query))) : \n",
    "    if type(chunk) is nltk.tree.Tree:\n",
    "        s = ''\n",
    "        for  i in chunk:\n",
    "            s = s + ' ' + i[0]\n",
    "        names.append(s[1:])\n",
    "    else:\n",
    "        l.append(chunk[0])\n",
    "\n",
    "final = []\n",
    "    \n",
    "#excluding stopwords and punctuation signs\n",
    "for i in l:\n",
    "    if not((ps.stem(i) in stopWords) or (ps.stem(i) in (string.punctuation) )):\n",
    "        final.append(ps.stem(i))\n",
    "final = final + names\n",
    "final"
   ]
  },
  {
   "cell_type": "code",
   "execution_count": null,
   "metadata": {},
   "outputs": [],
   "source": [
    "voc = {}\n",
    "inverted_idx = {}\n",
    "i=0\n",
    "for word in final: \n",
    "    voc[i]  = vocabulary[word]\n",
    "    i = i+1\n",
    "for index in range(i):\n",
    "    inverted_idx[voc[index]] = inverted_index[voc[index]]"
   ]
  },
  {
   "cell_type": "code",
   "execution_count": null,
   "metadata": {},
   "outputs": [],
   "source": [
    "#finding list of docs that contain all the words in the query\n",
    "docs = []\n",
    "for i in range(18259):\n",
    "    doc = 'doc_' + str(i)\n",
    "    b = True\n",
    "    for j in idx.values(): \n",
    "        b = b and (doc in inverted_idx[j])\n",
    "    if b:\n",
    "        docs.append(i)\n",
    "\n",
    "df = f.filter(items = ['title', 'description', 'city', 'url']).loc[docs]\n",
    "df.style.hide_index()"
   ]
  },
  {
   "cell_type": "code",
   "execution_count": null,
   "metadata": {},
   "outputs": [],
   "source": []
  }
 ],
 "metadata": {
  "kernelspec": {
   "display_name": "Python 3",
   "language": "python",
   "name": "python3"
  },
  "language_info": {
   "codemirror_mode": {
    "name": "ipython",
    "version": 3
   },
   "file_extension": ".py",
   "mimetype": "text/x-python",
   "name": "python",
   "nbconvert_exporter": "python",
   "pygments_lexer": "ipython3",
   "version": "3.6.6"
  }
 },
 "nbformat": 4,
 "nbformat_minor": 2
}
