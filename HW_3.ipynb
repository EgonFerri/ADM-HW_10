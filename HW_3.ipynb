{
 "cells": [
  {
   "cell_type": "code",
   "execution_count": 4,
   "metadata": {},
   "outputs": [],
   "source": [
    "import pandas as pd\n",
    "from nltk.tokenize import sent_tokenize, word_tokenize, PunktSentenceTokenizer\n",
    "from nltk.corpus import stopwords\n",
    "#nltk.download()\n",
    "import string\n",
    "from nltk.stem import PorterStemmer\n",
    "from nltk import pos_tag, ne_chunk\n",
    "import nltk"
   ]
  },
  {
   "cell_type": "code",
   "execution_count": 5,
   "metadata": {},
   "outputs": [],
   "source": [
    "#file with data\n",
    "f = pd.read_csv(r'C:\\Users\\mccol\\Desktop\\Sapienza\\ADM\\HW3\\Airbnb_Texas_Rentals.csv')"
   ]
  },
  {
   "cell_type": "code",
   "execution_count": 6,
   "metadata": {},
   "outputs": [],
   "source": [
    "#creating the .tsv files\n",
    "for i in range(f.index.max()+1):\n",
    "    op = open(r'C:\\Users\\mccol\\Desktop\\Sapienza\\ADM\\HW3\\doc\\doc_' + str(i) + '.tsv', 'w', encoding=\"utf-8\")\n",
    "    for j in range(10):\n",
    "        op.write('%s\\t' %f.iloc[i, j])\n",
    "    op.close()"
   ]
  },
  {
   "cell_type": "markdown",
   "metadata": {},
   "source": [
    "### CREATING THE VOCABULARY"
   ]
  },
  {
   "cell_type": "code",
   "execution_count": 19,
   "metadata": {},
   "outputs": [],
   "source": [
    "#FUNCTIONS\n",
    "def preprocess(l):\n",
    "    final = []\n",
    "    for i in l:\n",
    "        if not((ps.stem(i) in stopWords) or (ps.stem(i) in (string.punctuation) )):\n",
    "            final.append(ps.stem(i))\n",
    "    return (final)\n",
    "\n",
    "def vocabularization(vocabulary, final, index):\n",
    "    for word in final:\n",
    "        if not(word in vocabulary):\n",
    "            vocabulary[word] = index\n",
    "            index = index + 1\n",
    "    return(vocabulary, index)\n",
    "\n",
    "#not used at the moment\n",
    "def chunking(sentence):\n",
    "    names = []\n",
    "    l = []\n",
    "    for chunk in ne_chunk(pos_tag(word_tokenize(sentence))) : \n",
    "        if type(chunk) is nltk.tree.Tree:\n",
    "            s = ''\n",
    "            for  i in chunk:\n",
    "                s = s + ' ' + i[0]\n",
    "            names.append(s[1:])\n",
    "        else:\n",
    "            l.append(chunk[0])\n",
    "    return(names, l)"
   ]
  },
  {
   "cell_type": "code",
   "execution_count": 28,
   "metadata": {},
   "outputs": [],
   "source": [
    "stopWords = set(stopwords.words('english'))\n",
    "ps = PorterStemmer()\n",
    "string.punctuation = string.punctuation + '–“”’'\n",
    "\n",
    "vocabulary= {}\n",
    "index = 0\n",
    "\n",
    "for i in range(18259):\n",
    "    \n",
    "    op = open(r'C:\\Users\\mccol\\Desktop\\Sapienza\\ADM\\HW3\\doc\\doc_' + str(i) + '.tsv', 'r', encoding=\"utf-8\")\n",
    "    for line in op:\n",
    "        ou = line.strip().split('\\t')\n",
    "        sentence = ou[5].replace('\\\\n', ' ').replace('/', ' ').replace('*', ' ').replace('\\\\r', ' ').replace('\\\\t', ' ') + ' ' + ou[8]\n",
    "    op.close()\n",
    "    \n",
    "    #splitting the sentence into chunks recognised through tags\n",
    "    #names, l = chunking(sentence) \n",
    "    \n",
    "    #preprocessing data deleting stop words, punctuations, ecc.  \n",
    "    #final = preprocess(l) + names\n",
    "    final = preprocess(word_tokenize(sentence))\n",
    "    \n",
    "    # IF  word not in vocabulary -> add the word\n",
    "    vocabulary, index = vocabularization(vocabulary, final, index)\n",
    "            \n",
    "op = open(r'C:\\Users\\mccol\\Desktop\\Sapienza\\ADM\\HW3\\vocabulary.txt', 'w', encoding=\"utf-8\")\n",
    "op.write(str(vocabulary))\n",
    "op.close()"
   ]
  },
  {
   "cell_type": "markdown",
   "metadata": {},
   "source": [
    "### INVERTED INDEX"
   ]
  },
  {
   "cell_type": "code",
   "execution_count": 31,
   "metadata": {},
   "outputs": [],
   "source": [
    "inverted_index = {}\n",
    "\n",
    "for file in range(18259):\n",
    "\n",
    "    op = open(r'C:\\Users\\mccol\\Desktop\\Sapienza\\ADM\\HW3\\doc\\doc_' + str(file) + '.tsv', 'r', encoding=\"utf-8\")\n",
    "    for line in op:\n",
    "        ou = line.strip().split('\\t')\n",
    "        sentence = ou[5].replace('\\\\n', ' ').replace('/', ' ').replace('*', ' ').replace('\\\\r', ' ').replace('\\\\t', ' ') + ' ' + ou[8]\n",
    "    op.close()\n",
    " \n",
    "    #names, l = chunking(sentence) \n",
    "    \n",
    "    #preprocessing data deleting stop words, punctuations, ecc.  \n",
    "    #final = preprocess(l) + names\n",
    "    final = preprocess(word_tokenize(sentence))\n",
    "    \n",
    "    \n",
    "    #CREATING INVERTED INDEX\n",
    "    for word in final:\n",
    "        index = vocabulary[word]\n",
    "        if not (index in inverted_index):\n",
    "            inverted_index[index] = ['doc_' + str(file)]\n",
    "        elif not('doc_' + str(file) in inverted_index[index]):\n",
    "            inverted_index[index] = inverted_index[index] + ['doc_' + str(file)]\n",
    "\n",
    "op = open(r'C:\\Users\\mccol\\Desktop\\Sapienza\\ADM\\HW3\\inverted_index.txt', 'w', encoding=\"utf-8\")\n",
    "op.write(str(inverted_index))\n",
    "op.close()"
   ]
  },
  {
   "cell_type": "code",
   "execution_count": 32,
   "metadata": {},
   "outputs": [
    {
     "name": "stdout",
     "output_type": "stream",
     "text": [
      "garden pool lake\n"
     ]
    },
    {
     "data": {
      "text/plain": [
       "['garden', 'pool', 'lake']"
      ]
     },
     "execution_count": 32,
     "metadata": {},
     "output_type": "execute_result"
    }
   ],
   "source": [
    "#HANDLING USER INPUT\n",
    "user_query = input()\n",
    "l = []\n",
    "names = []\n",
    "for chunk in ne_chunk(pos_tag(word_tokenize(user_query))) : \n",
    "    if type(chunk) is nltk.tree.Tree:\n",
    "        s = ''\n",
    "        for  i in chunk:\n",
    "            s = s + ' ' + i[0]\n",
    "        names.append(s[1:])\n",
    "    else:\n",
    "        l.append(chunk[0])\n",
    "\n",
    "final = []\n",
    "    \n",
    "#excluding stopwords and punctuation signs\n",
    "for i in l:\n",
    "    if not((ps.stem(i) in stopWords) or (ps.stem(i) in (string.punctuation) )):\n",
    "        final.append(ps.stem(i))\n",
    "final = final + names\n",
    "final"
   ]
  },
  {
   "cell_type": "code",
   "execution_count": 33,
   "metadata": {},
   "outputs": [],
   "source": [
    "voc = {}\n",
    "inverted_idx = {}\n",
    "i=0\n",
    "for word in final: \n",
    "    voc[i]  = vocabulary[word]\n",
    "    i = i+1\n",
    "for index in range(i):\n",
    "    inverted_idx[voc[index]] = inverted_index[voc[index]]"
   ]
  },
  {
   "cell_type": "code",
   "execution_count": 35,
   "metadata": {},
   "outputs": [
    {
     "data": {
      "text/html": [
       "<style  type=\"text/css\" >\n",
       "</style>  \n",
       "<table id=\"T_c4127d64_e77b_11e8_8740_204747782cb8\" > \n",
       "<thead>    <tr> \n",
       "        <th class=\"col_heading level0 col0\" >title</th> \n",
       "        <th class=\"col_heading level0 col1\" >description</th> \n",
       "        <th class=\"col_heading level0 col2\" >city</th> \n",
       "        <th class=\"col_heading level0 col3\" >url</th> \n",
       "    </tr></thead> \n",
       "<tbody>    <tr> \n",
       "        <td id=\"T_c4127d64_e77b_11e8_8740_204747782cb8row0_col0\" class=\"data row0 col0\" >The Woodlands, BEAUTIFUL HOME, 1 Floor, 2 BT, 3 BD</td> \n",
       "        <td id=\"T_c4127d64_e77b_11e8_8740_204747782cb8row0_col1\" class=\"data row0 col1\" >Attractions: The Woodlands, incredible views, golf courses, theme parks with tennis courts and lakes, pools, cycle paths, tranquility and quality of life for the family.\\nYou will love my house because of its cozy spaces with high ceilings in an excellent location, beautiful views, and proximity to the great shopping areas.\\nIt is a single story house with a large garden; ideal for couples, business travelers, and families with children.</td> \n",
       "        <td id=\"T_c4127d64_e77b_11e8_8740_204747782cb8row0_col2\" class=\"data row0 col2\" >Spring</td> \n",
       "        <td id=\"T_c4127d64_e77b_11e8_8740_204747782cb8row0_col3\" class=\"data row0 col3\" >https://www.airbnb.com/rooms/13065223?location=Conroe%2C%20TX</td> \n",
       "    </tr>    <tr> \n",
       "        <td id=\"T_c4127d64_e77b_11e8_8740_204747782cb8row1_col0\" class=\"data row1 col0\" >2 blocks to Rainey! Walk downtown!</td> \n",
       "        <td id=\"T_c4127d64_e77b_11e8_8740_204747782cb8row1_col1\" class=\"data row1 col1\" >HOLIDAYS, LOCAL EVENTS, HIGH DEMAND WEEKENDS, DATES WITH LOW AVAILABILITY MAY BE SUBJECT TO HIGHER RATES, NIGHT MINIMUMS, AND/OR HIGHER FEES. AVAILABILITY SHOWN ON THIS CALENDAR'S WEBSITE IS NOT ALWAYS 100% ACCURATE. IT IS ALWAYS BEST TO INQUIRE WITH THE HOST/MANAGER/HOMEOWNER TO VERIFY AVAILABILTY AND A SPECIFIC QUOTE FOR YOUR STAY. QUOTES MAY DIFFER FROM THE BASE RATES, BASE FEES, NIGHT MINIMUMS AND/OR QUOTES PROVIDED BY THIS WEBSITE AND/OR DISPLAYED ON CALENDAR\\n\\nPLEASE READ ALL HOUSE RULES AVAILABLE ON WEBSITE AND/OR PROVIDED BEFORE BOOKING. ALL GUESTS ON RESERVATION MUST UNDERSTAND AND FOLLOW ALL RULES.\\n\\nTaylor House is in a residential neighborhood and all Guests will need to acknowledge they agree to respect my neighbors and the surrounding community to be accepted. Noise levels will be closely monitored. PARTIES ARE NOT ALLOWED. See below for more information.\\n\\nWelcome to my home! I look forward to hosting you!\\n\\nThis is the perfect vacation rental home in downtown Austin! I strive to provide Guests with the perfect home base with all the creature comforts, in the perfect location for exploring what Austin has to offer. I have lived in Austin my entire life and I want to help make your trip one-of-a-kind! I’m available for suggestions of trendy new hot spots, and unique, only in Austin activities!\\n\\nYour perfect stay in the perfect location for the perfect vacation!\\n\\nA must stay! 2 blocks from the Rainey Street entertainment district! This area is the go-to spot for the Austin young professional nightlife scene. A short walk anywhere else downtown, including the convention center. The East 6th Street entertainment district is blocks away. Walk 2 blocks to Lady Bird Lake. Walk/Run/Bike the scenic Hike and Bike Trail or Kayak/Paddle Board on the lake as the sun sets. Kayak/Paddle Board/Small sailing and paddle boat rentals available blocks away. Walking distance to 6th Street, Congress, Paramount Theater, restaurants, bars, music venues, Texas Longhorn tailgating, DKR stadium, museums, a public pool, grocery store, coffee shops, comedy shows, improv shows, movie theaters (Alamo Ritz and Violet Crown), breweries (Hops &amp; Grain), theater, art galleries, and other nightlife. The perfect location for the vacationer who wants to walk to everything unique that Austin has to offer. The home has tons of upgrades. Real wood floors. Large master bedroom with big bathroom. Modern kitchen with granite counters and stainless steel appliances. High ceilings. Huge granite island. The perfect fenced in yard for hanging out/re-cooperation. Ping pong table, a cornhole set, a washer set, tons of patio chairs, a Weber grill and tons of games are also included.\\n\\nEverything you need! (More about the home)\\n\\n-The home is very well maintained and very clean. \\n-Tons of windows to let in light for a very open feel. \\n-1st floor: Big fully furnished living room with a LED TV. Amazon Fire Stick with streaming Netflix subscription and other Apple TV content. There is an antenna that picks up the major networks and some other channels, but this is not guaranteed. There is no cable TV. Great place to recoup while watching some Netflix or grabbing a provided local magazine to find out more about what Austin has to offer. A large granite counter with several stools divides the kitchen and living area. Perfect for meal preparation, dining, a game of cards or just socializing. A state of the art kitchen complete with stainless steel appliances, gas stove, refrigerator/freezer, garbage disposal, dishwasher, microwave, toaster, blender, and coffee maker. Large surfaces for cooking and serving. All needed basic cooking ware and dining ware provided. Stained concrete flooring throughout. Large one half bath.\\n-2nd floor: Master bedroom with private large bathroom. It has a double vanity and a large garden tub/shower. Some soap, shower gel, shampoo and conditioner typically provided. Hair dryer provided. Wood flooring on the stairs and landing. Energy efficient, front-loading Washer/Dryer. \\n-3rd floor: All wood flooring. 2nd bedroom. Deck overlooking the neighborhood and the downtown skyline. Deck has plenty of seating and a table. \\n-Yard: The perfect yard with privacy fence for rest, relaxation and socializing. Corhole set, washer set, tons of chairs, ping pong table, and a Weber grill.\\n-Big front patio with chairs.\\n-Central Energy Efficient HVAC. \\n-1 parking spot on the lot with plenty of free street parking. Please do not park in front of neighboring homes.\\n-High speed WIFI. \\n-Fresh towels provided. \\n-Cards and tons of games. \\n-Fresh coffee. \\n-BBQ tools. (Bring your own charcoal, lighter fluid and matches)\\n-Hair Dryer. \\n-Laundry detergent, softener and bleach provided for on-site laundry. \\n-Iron and ironing board. \\n\\nEasy to Find!\\n\\nArriving by car: 4 blocks off of Cesar Chavez. Very easy to find with plenty of parking in the area.\\n\\nArriving by plane: Capitol Metro Bus Route '100-AIRPORT FLYER' drop offs downtown. 15 minute cab ride from the airport. Remember, Austin cabs only take 4 persons at one time. Uber/Lyft/Car2go all available in Austin.\\n\\n*15% LOCAL AND STATE TAXES ARE TYPICALLY INCLUDED IN THE ONLINE QUOTE .\\n\\nAustin City Code - Chapt – “Except as otherwise provided in this section, not more than six unrelated adult may reside in a dwelling unit.” (Ordinance No. ). THIS APPLIES TO ALL SHORT TERM/VACATION RENTALS IN AUSTIN. Please inquire further if you have any questions or concerns.\\n\\n***Furnishings and amenities will be furnished as described whenever possible. In the event that an item is damaged/broken/lost/consumed the Host will restock as soon as possible. All items in description/pictures are not guaranteed.***\\n\\nLet me help you have the perfect vacation! Thank you for looking! Have a great day!\\n\\nOL #</td> \n",
       "        <td id=\"T_c4127d64_e77b_11e8_8740_204747782cb8row1_col2\" class=\"data row1 col2\" >Austin</td> \n",
       "        <td id=\"T_c4127d64_e77b_11e8_8740_204747782cb8row1_col3\" class=\"data row1 col3\" >https://www.airbnb.com/rooms/1250575?location=Colorado%20River%2C%20TX</td> \n",
       "    </tr>    <tr> \n",
       "        <td id=\"T_c4127d64_e77b_11e8_8740_204747782cb8row2_col0\" class=\"data row2 col0\" >Fully Equipped 31' sailboat</td> \n",
       "        <td id=\"T_c4127d64_e77b_11e8_8740_204747782cb8row2_col1\" class=\"data row2 col1\" >Comfortable and relaxing 31' sailboat moored in a natural bird sanctuary marina on Clear Lake. Guest have the full use the the marina facilities including pool, showers and laundry room. The Kemah Boardwalk is just 10 minutes away, great for kids. NASA and the space center is just across the lake too. Galveston and Moody gardens is a 45 minute drive on the freeway.</td> \n",
       "        <td id=\"T_c4127d64_e77b_11e8_8740_204747782cb8row2_col2\" class=\"data row2 col2\" >Kemah</td> \n",
       "        <td id=\"T_c4127d64_e77b_11e8_8740_204747782cb8row2_col3\" class=\"data row2 col3\" >https://www.airbnb.com/rooms/5446434?location=Beach%20City%2C%20TX</td> \n",
       "    </tr>    <tr> \n",
       "        <td id=\"T_c4127d64_e77b_11e8_8740_204747782cb8row3_col0\" class=\"data row3 col0\" >HSB Townhome with pool</td> \n",
       "        <td id=\"T_c4127d64_e77b_11e8_8740_204747782cb8row3_col1\" class=\"data row3 col1\" >This location is directly across the street from Horseshoe Bay Resort - great restaurants, gardens, exotic birds, putt putt and more. Home is completely updated with Lake living décor. This community has a swimming pool only steps from front door.</td> \n",
       "        <td id=\"T_c4127d64_e77b_11e8_8740_204747782cb8row3_col2\" class=\"data row3 col2\" >Horseshoe Bay</td> \n",
       "        <td id=\"T_c4127d64_e77b_11e8_8740_204747782cb8row3_col3\" class=\"data row3 col3\" >https://www.airbnb.com/rooms/6192660?location=Buchanan%20Dam%2C%20TX</td> \n",
       "    </tr>    <tr> \n",
       "        <td id=\"T_c4127d64_e77b_11e8_8740_204747782cb8row4_col0\" class=\"data row4 col0\" >Shangri Loyd Poolside Cabana Burnet</td> \n",
       "        <td id=\"T_c4127d64_e77b_11e8_8740_204747782cb8row4_col1\" class=\"data row4 col1\" >Shangri Loyd is a private poolside oasis tucked in the Heart of Historic Burnet, TX. Burnet is home to the Bluebonnet Festival, Christmas on the Square and the destination of the Hill Country Flyer scenic train tour. We are walking distance from downtown shops and restaurants and Main Street Bethlehem (December weekend,) and 10-15 minutes driving distance from Inks Lake, Longhorn Cavern, Canyon of the Eagles, Perissos, Fall Creek and Torr Na Loch wineries, Marble Falls, Lake LBJ and Lake Buchanan. The cabana is 450sqft with saltillo floors, imported tile shower and vanity, kitchenette with frig, microwave, and coffee maker. It sleeps 2 with a comfy queen bed and separate seating area. French doors and huge windows to enjoy the tranquil pool and lush gardens.\\n\\nGuests enjoy shared use of the private pool and backyard/ gardens area.\\n\\nWe rarely interact with guests, but are available by phone or text.</td> \n",
       "        <td id=\"T_c4127d64_e77b_11e8_8740_204747782cb8row4_col2\" class=\"data row4 col2\" >Burnet</td> \n",
       "        <td id=\"T_c4127d64_e77b_11e8_8740_204747782cb8row4_col3\" class=\"data row4 col3\" >https://www.airbnb.com/rooms/241714?location=Buchanan%20Dam%2C%20TX</td> \n",
       "    </tr>    <tr> \n",
       "        <td id=\"T_c4127d64_e77b_11e8_8740_204747782cb8row5_col0\" class=\"data row5 col0\" >Shangri Loyd Poolside Cabana Burnet</td> \n",
       "        <td id=\"T_c4127d64_e77b_11e8_8740_204747782cb8row5_col1\" class=\"data row5 col1\" >Shangri Loyd is a private poolside oasis tucked in the Heart of Historic Burnet, TX. Burnet is home to the Bluebonnet Festival, Christmas on the Square and the destination of the Hill Country Flyer scenic train tour. We are walking distance from downtown shops and restaurants and Main Street Bethlehem (December weekend,) and 10-15 minutes driving distance from Inks Lake, Longhorn Cavern, Canyon of the Eagles, Perissos, Fall Creek and Torr Na Loch wineries, Marble Falls, Lake LBJ and Lake Buchanan. The cabana is 450sqft with saltillo floors, imported tile shower and vanity, kitchenette with frig, microwave, and coffee maker. It sleeps 2 with a comfy queen bed and separate seating area. French doors and huge windows to enjoy the tranquil pool and lush gardens.\\n\\nGuests enjoy shared use of the private pool and backyard/ gardens area.\\n\\nWe rarely interact with guests, but are available by phone or text.</td> \n",
       "        <td id=\"T_c4127d64_e77b_11e8_8740_204747782cb8row5_col2\" class=\"data row5 col2\" >Burnet</td> \n",
       "        <td id=\"T_c4127d64_e77b_11e8_8740_204747782cb8row5_col3\" class=\"data row5 col3\" >https://www.airbnb.com/rooms/241714?location=Bertram%2C%20TX</td> \n",
       "    </tr>    <tr> \n",
       "        <td id=\"T_c4127d64_e77b_11e8_8740_204747782cb8row6_col0\" class=\"data row6 col0\" >Shangri Loyd Poolside Cabana Burnet</td> \n",
       "        <td id=\"T_c4127d64_e77b_11e8_8740_204747782cb8row6_col1\" class=\"data row6 col1\" >Shangri Loyd is a private poolside oasis tucked in the Heart of Historic Burnet, TX. Burnet is home to the Bluebonnet Festival, Christmas on the Square and the destination of the Hill Country Flyer scenic train tour. We are walking distance from downtown shops and restaurants and Main Street Bethlehem (December weekend,) and 10-15 minutes driving distance from Inks Lake, Longhorn Cavern, Canyon of the Eagles, Perissos, Fall Creek and Torr Na Loch wineries, Marble Falls, Lake LBJ and Lake Buchanan. The cabana is 450sqft with saltillo floors, imported tile shower and vanity, kitchenette with frig, microwave, and coffee maker. It sleeps 2 with a comfy queen bed and separate seating area. French doors and huge windows to enjoy the tranquil pool and lush gardens.\\n\\nGuests enjoy shared use of the private pool and backyard/ gardens area.\\n\\nWe rarely interact with guests, but are available by phone or text.</td> \n",
       "        <td id=\"T_c4127d64_e77b_11e8_8740_204747782cb8row6_col2\" class=\"data row6 col2\" >Burnet</td> \n",
       "        <td id=\"T_c4127d64_e77b_11e8_8740_204747782cb8row6_col3\" class=\"data row6 col3\" >https://www.airbnb.com/rooms/241714?location=Burnet%2C%20TX</td> \n",
       "    </tr>    <tr> \n",
       "        <td id=\"T_c4127d64_e77b_11e8_8740_204747782cb8row7_col0\" class=\"data row7 col0\" >HSB Townhome with pool</td> \n",
       "        <td id=\"T_c4127d64_e77b_11e8_8740_204747782cb8row7_col1\" class=\"data row7 col1\" >This location is directly across the street from Horseshoe Bay Resort - great restaurants, gardens, exotic birds, putt putt and more. Home is completely updated with Lake living décor. This community has a swimming pool only steps from front door.</td> \n",
       "        <td id=\"T_c4127d64_e77b_11e8_8740_204747782cb8row7_col2\" class=\"data row7 col2\" >Horseshoe Bay</td> \n",
       "        <td id=\"T_c4127d64_e77b_11e8_8740_204747782cb8row7_col3\" class=\"data row7 col3\" >https://www.airbnb.com/rooms/6192660?location=Burnet%2C%20TX</td> \n",
       "    </tr>    <tr> \n",
       "        <td id=\"T_c4127d64_e77b_11e8_8740_204747782cb8row8_col0\" class=\"data row8 col0\" >LUX Private Cottage Woodlawn Lake nearDT/Riverwalk</td> \n",
       "        <td id=\"T_c4127d64_e77b_11e8_8740_204747782cb8row8_col1\" class=\"data row8 col1\" >Please be our guest in a beautiful private apartment appointed with new queen mattress and luxurious bedding, Roku TV, desk &amp; wifi access. Brand new kitchen/bath/flooring and Mexican Colonial decor. Secluded private patio and native garden. Five minutes to the quirky shops, museums &amp; restaurants of Downtown, Southtown, and the Pearl. Woodlawn Lake, with jogging trails, exercise stations, seasonal pool, tennis courts, casting pond and relaxing sights is just a 2 minute walk out the gate.</td> \n",
       "        <td id=\"T_c4127d64_e77b_11e8_8740_204747782cb8row8_col2\" class=\"data row8 col2\" >San Antonio</td> \n",
       "        <td id=\"T_c4127d64_e77b_11e8_8740_204747782cb8row8_col3\" class=\"data row8 col3\" >https://www.airbnb.com/rooms/11656398?location=Alamo%20Heights%2C%20TX</td> \n",
       "    </tr>    <tr> \n",
       "        <td id=\"T_c4127d64_e77b_11e8_8740_204747782cb8row9_col0\" class=\"data row9 col0\" >Fully Equipped 31' sailboat</td> \n",
       "        <td id=\"T_c4127d64_e77b_11e8_8740_204747782cb8row9_col1\" class=\"data row9 col1\" >Comfortable and relaxing 31' sailboat moored in a natural bird sanctuary marina on Clear Lake. Guest have the full use the the marina facilities including pool, showers and laundry room. The Kemah Boardwalk is just 10 minutes away, great for kids. NASA and the space center is just across the lake too. Galveston and Moody gardens is a 45 minute drive on the freeway.</td> \n",
       "        <td id=\"T_c4127d64_e77b_11e8_8740_204747782cb8row9_col2\" class=\"data row9 col2\" >Kemah</td> \n",
       "        <td id=\"T_c4127d64_e77b_11e8_8740_204747782cb8row9_col3\" class=\"data row9 col3\" >https://www.airbnb.com/rooms/5446434?location=Bacliff%2C%20TX</td> \n",
       "    </tr>    <tr> \n",
       "        <td id=\"T_c4127d64_e77b_11e8_8740_204747782cb8row10_col0\" class=\"data row10 col0\" >Aloha Austin Studio w/ Pool, Hot Tub & Waterfall</td> \n",
       "        <td id=\"T_c4127d64_e77b_11e8_8740_204747782cb8row10_col1\" class=\"data row10 col1\" >My studio is close to EVERYTHING! Town Lake (Lady Bird), 6th St., La Barbecue, Banger's Sausage House &amp; Beer Garden, Rainey St, Veracruz Food Truck. You’ll love my studio because of the location, pool, hot tub, waterfall, epic garden and a view of the downtown skyline. I've spent years turning this into a \\</td> \n",
       "        <td id=\"T_c4127d64_e77b_11e8_8740_204747782cb8row10_col2\" class=\"data row10 col2\" >Austin</td> \n",
       "        <td id=\"T_c4127d64_e77b_11e8_8740_204747782cb8row10_col3\" class=\"data row10 col3\" >https://www.airbnb.com/rooms/16881707?location=Austin%2C%20TX</td> \n",
       "    </tr></tbody> \n",
       "</table> "
      ],
      "text/plain": [
       "<pandas.io.formats.style.Styler at 0x1e245161dd8>"
      ]
     },
     "execution_count": 35,
     "metadata": {},
     "output_type": "execute_result"
    }
   ],
   "source": [
    "#finding list of docs that contain all the words in the query\n",
    "docs = []\n",
    "\n",
    "for i in range(18259):\n",
    "    doc = 'doc_' + str(i)\n",
    "    b = True\n",
    "    for j in voc.values(): \n",
    "        b = b and (doc in inverted_idx[j])\n",
    "    if b:\n",
    "        docs.append(i)\n",
    "\n",
    "df = f.filter(items = ['title', 'description', 'city', 'url']).loc[docs]\n",
    "df.style.hide_index()"
   ]
  },
  {
   "cell_type": "code",
   "execution_count": null,
   "metadata": {},
   "outputs": [],
   "source": []
  }
 ],
 "metadata": {
  "kernelspec": {
   "display_name": "Python 3",
   "language": "python",
   "name": "python3"
  },
  "language_info": {
   "codemirror_mode": {
    "name": "ipython",
    "version": 3
   },
   "file_extension": ".py",
   "mimetype": "text/x-python",
   "name": "python",
   "nbconvert_exporter": "python",
   "pygments_lexer": "ipython3",
   "version": "3.6.6"
  }
 },
 "nbformat": 4,
 "nbformat_minor": 2
}
