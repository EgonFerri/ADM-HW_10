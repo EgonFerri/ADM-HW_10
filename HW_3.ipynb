{
 "cells": [
  {
   "cell_type": "code",
   "execution_count": 183,
   "metadata": {},
   "outputs": [],
   "source": [
    "import pandas as pd\n",
    "from nltk.tokenize import sent_tokenize, word_tokenize, PunktSentenceTokenizer\n",
    "from nltk.corpus import stopwords\n",
    "#nltk.download()\n",
    "import string\n",
    "from nltk.stem import PorterStemmer\n",
    "from nltk import pos_tag, ne_chunk\n"
   ]
  },
  {
   "cell_type": "code",
   "execution_count": 184,
   "metadata": {},
   "outputs": [],
   "source": [
    "#file with data\n",
    "f = pd.read_csv(\"Airbnb_Texas_Rentals.csv\")"
   ]
  },
  {
   "cell_type": "code",
   "execution_count": 215,
   "metadata": {},
   "outputs": [],
   "source": [
    "#creating the .tsv files\n",
    "for i in range(f.index.max()+1):\n",
    "    op = open(r'C:\\Users\\mccol\\Desktop\\Sapienza\\ADM\\HW3\\doc\\doc_' + str(i) + '.tsv', 'w', encoding=\"utf-8\")\n",
    "    for j in range(10):\n",
    "        op.write('%s\\t' %f.iloc[i, j])\n",
    "    op.close()"
   ]
  },
  {
   "cell_type": "code",
   "execution_count": 381,
   "metadata": {},
   "outputs": [],
   "source": [
    "# EXAMPLE with a simple sentence\n",
    "\n",
    "sentence = \"All gamer and no play New York Los Angeles San Josè. city makes Jack a dull boy, all work and re-playing;\""
   ]
  },
  {
   "cell_type": "code",
   "execution_count": 382,
   "metadata": {},
   "outputs": [
    {
     "name": "stdout",
     "output_type": "stream",
     "text": [
      "['gamer', 'play', 'citi', 'make', 'dull', 'boy', 'work', 're-play', 'New York', 'Los Angeles', 'San Josè', 'Jack']\n"
     ]
    }
   ],
   "source": [
    "stopWords = set(stopwords.words('english'))\n",
    "ps = PorterStemmer()\n",
    "\n",
    "#names contains proper names like 'New York' or 'San Francisco' or 'Frank'\n",
    "names = []\n",
    "l = []\n",
    "for chunk in ne_chunk(pos_tag(word_tokenize(sentence))) : \n",
    "    if type(chunk) is nltk.tree.Tree:\n",
    "        s = ''\n",
    "        for  i in chunk:\n",
    "            s = s + ' ' + i[0]\n",
    "        names.append(s[1:])\n",
    "    else:\n",
    "        l.append(chunk[0])\n",
    "\n",
    "final = []\n",
    "for i in l:\n",
    "    if not((ps.stem(i) in stopWords) or (ps.stem(i) in string.punctuation)):\n",
    "        final.append(ps.stem(i))\n",
    "print(final + names)"
   ]
  },
  {
   "cell_type": "code",
   "execution_count": null,
   "metadata": {},
   "outputs": [],
   "source": []
  }
 ],
 "metadata": {
  "kernelspec": {
   "display_name": "Python 3",
   "language": "python",
   "name": "python3"
  },
  "language_info": {
   "codemirror_mode": {
    "name": "ipython",
    "version": 3
   },
   "file_extension": ".py",
   "mimetype": "text/x-python",
   "name": "python",
   "nbconvert_exporter": "python",
   "pygments_lexer": "ipython3",
   "version": "3.6.6"
  }
 },
 "nbformat": 4,
 "nbformat_minor": 2
}
