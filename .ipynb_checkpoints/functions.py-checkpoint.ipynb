{
 "cells": [
  {
   "cell_type": "code",
   "execution_count": 12,
   "metadata": {},
   "outputs": [],
   "source": [
    "from nltk.tokenize import sent_tokenize, word_tokenize, PunktSentenceTokenizer\n",
    "from nltk.corpus import stopwords\n",
    "import string\n",
    "from nltk.stem import PorterStemmer\n",
    "import nltk\n",
    "\n",
    "# list of stopwords\n",
    "stopWords = set(stopwords.words('english'))\n",
    "# the stemmer used\n",
    "ps = PorterStemmer()\n",
    "# list of punctuation used\n",
    "string.punctuation = string.punctuation + '–“”’'\n",
    "\n",
    "\n",
    "# preprocess takes a list of words as input and RETURNS a list of stemmed words without stopwords and punctuation\n",
    "def preprocess(l):\n",
    "    final = []\n",
    "    for i in l:\n",
    "        if not((ps.stem(i) in stopWords) or (ps.stem(i) in (string.punctuation) )):\n",
    "            final.append(ps.stem(i))\n",
    "    return (final)\n",
    "\n",
    "# takes a dictionary, a list of words and an integer. RETURNS a dictionary of words and an integer.\n",
    "# this functions map each word in vocabulary to an integer (that starts from index)\n",
    "def vocabularization(vocabulary, final, index):\n",
    "    for word in final:\n",
    "        if not(word in vocabulary):\n",
    "            vocabulary[word] = str(index)\n",
    "            index = index + 1\n",
    "    return(vocabulary, index)"
   ]
  },
  {
   "cell_type": "code",
   "execution_count": 3,
   "metadata": {},
   "outputs": [],
   "source": [
    "# RETRIEVING AVERAGE REVIEWS STARS\n",
    "# rating value of reviews; it can be None if there is no review\n",
    "\n",
    "def rating_value_reviews(airbnb_content, airbnb_soup):\n",
    "    \n",
    "    if not(airbnb_content.history):\n",
    "        rating_value_reviews_text = airbnb_soup.find_all(\"div\", attrs={\"itemprop\": \"ratingValue\"})\n",
    "        \n",
    "        if rating_value_reviews_text != []:\n",
    "            indx = str(rating_value_reviews_text).find(\"content\")+len(\"content\")+2\n",
    "            rating_value_reviews = float(str(rating_value_reviews_text)[indx:].split('\" ')[0])            \n",
    "        else:\n",
    "            rating_value_reviews = numpy.nan\n",
    "    \n",
    "    else:\n",
    "        rating_value_reviews = numpy.nan\n",
    "        \n",
    "    return(rating_value_reviews)\n",
    "\n",
    "\n",
    "def listing_amenities(airbnb_content, airbnb_soup):\n",
    "\n",
    "    if not(airbnb_content.history):\n",
    "        idx = airbnb_soup.text.find(\"listing_amenities\")+len(\"listing_amenities\")+2\n",
    "        having_amenities = {}\n",
    "        nothaving_amenities = {}\n",
    "        \n",
    "        for a in airbnb_soup.text[idx:].split(\"}\"):\n",
    "            if all(keyword in a for keyword in [\"category\",\"icon\",\"id\",\"is_business_ready_feature\",\"is_present\",\n",
    "                                                \"is_safety_feature\",\"name\",\"select_list_view_photo\",\n",
    "                                                \"select_tile_view_photo\",\"tooltip\"]):\n",
    "                \n",
    "                amenity = a[(a.find(\"name\")+len(\"name\"))+3:].split('\",')[0]\n",
    "                amenity_idx = int(a[(a.find(\"id\")+len(\"id\"))+2:].split(',')[0])\n",
    "                \n",
    "                idx_is_present = a.find(\"is_present\")+len(\"is_present\")+2 #check whether the amenity provides or not\n",
    "                if a[idx_is_present:idx_is_present+1].upper() == 'T':\n",
    "                    having_amenities[amenity] = amenity_idx\n",
    "                else:\n",
    "                    nothaving_amenities[amenity] = amenity_idx\n",
    "            \n",
    "        having_amenities = \",\".join(list(having_amenities.keys()))\n",
    "        nothaving_amenities = \",\".join(list(nothaving_amenities.keys()))\n",
    "        \n",
    "    else:\n",
    "        having_amenities = numpy.nan\n",
    "        nothaving_amenities = numpy.nan\n",
    "\n",
    "    return(having_amenities, nothaving_amenities)\n"
   ]
  },
  {
   "cell_type": "code",
   "execution_count": 4,
   "metadata": {},
   "outputs": [],
   "source": [
    "# Is the host superhost? We'll get answer as boolean\n",
    "\n",
    "def is_superhost(airbnb_content, airbnb_soup):\n",
    "    if not(airbnb_content.history):\n",
    "        idx = airbnb_soup.text.find(\"is_superhost\")+len(\"is_superhost\")+2\n",
    "        is_superhost = airbnb_soup.text[idx:idx+1].upper() # T or F\n",
    "    else:\n",
    "        is_superhost = numpy.nan\n",
    "        \n",
    "    return(is_superhost)"
   ]
  },
  {
   "cell_type": "code",
   "execution_count": 5,
   "metadata": {},
   "outputs": [],
   "source": [
    "# number of guest\n",
    "\n",
    "def guest_no(airbnb_content, airbnb_soup):\n",
    "    if not(airbnb_content.history):\n",
    "        start_indx = airbnb_soup.text.find(\"guest_label\")+len(\"guest_label\")+2\n",
    "        guest_no = int(re.search(r'\\d+', airbnb_soup.text[start_indx:].split(\",\")[0]).group())\n",
    "    else:\n",
    "        guest_no = numpy.nan\n",
    "        \n",
    "    return(guest_no)"
   ]
  },
  {
   "cell_type": "code",
   "execution_count": 6,
   "metadata": {},
   "outputs": [],
   "source": [
    "# bath_type\n",
    "\n",
    "def bath_type(airbnb_content, airbnb_soup):\n",
    "    if not(airbnb_content.history):\n",
    "        start_idx = airbnb_soup.text.find(\"bathroom_label\")+len(\"bathroom_label\")+3\n",
    "        end_idx = airbnb_soup.text[start_idx:].find(\",\")\n",
    "        bath_type = airbnb_soup.text[start_idx:start_idx+end_idx-1]\n",
    "    else:\n",
    "        bath_type = numpy.nan\n",
    "\n",
    "    return(bath_type)"
   ]
  },
  {
   "cell_type": "code",
   "execution_count": 7,
   "metadata": {},
   "outputs": [],
   "source": [
    "# number of bed\n",
    "\n",
    "def bed_no(airbnb_content, airbnb_soup):\n",
    "    if not(airbnb_content.history):\n",
    "        start_idx = airbnb_soup.text.find(\"bed_label\")+len(\"bed_label\")+3\n",
    "        end_idx = airbnb_soup.text[start_idx:].find(\"bed\")\n",
    "        bed_no = int(re.search(r'\\d+', airbnb_soup.text[start_idx:start_idx+end_idx-1]).group())\n",
    "    else:\n",
    "        bed_no = numpy.nan\n",
    "        \n",
    "    return(bed_no)"
   ]
  },
  {
   "cell_type": "code",
   "execution_count": null,
   "metadata": {},
   "outputs": [],
   "source": []
  },
  {
   "cell_type": "code",
   "execution_count": null,
   "metadata": {},
   "outputs": [],
   "source": []
  }
 ],
 "metadata": {
  "kernelspec": {
   "display_name": "Python 3",
   "language": "python",
   "name": "python3"
  },
  "language_info": {
   "codemirror_mode": {
    "name": "ipython",
    "version": 3
   },
   "file_extension": ".py",
   "mimetype": "text/x-python",
   "name": "python",
   "nbconvert_exporter": "python",
   "pygments_lexer": "ipython3",
   "version": "3.6.6"
  }
 },
 "nbformat": 4,
 "nbformat_minor": 2
}
