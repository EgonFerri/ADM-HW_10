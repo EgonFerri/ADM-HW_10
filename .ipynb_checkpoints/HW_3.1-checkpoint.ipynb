{
 "cells": [
  {
   "cell_type": "markdown",
   "metadata": {},
   "source": [
    "# Homework 3 - Find the perfect place to stay in Texas!\n",
    "\n",
    "###### Alessandro Flaborea, Egon Ferri, Melis Kaymaz"
   ]
  },
  {
   "cell_type": "markdown",
   "metadata": {},
   "source": [
    "The homework consists in analyzing the text of Airbnb property listings and building a search engine."
   ]
  },
  {
   "cell_type": "code",
   "execution_count": 68,
   "metadata": {},
   "outputs": [],
   "source": [
    "import pandas as pd\n",
    "from nltk.tokenize import sent_tokenize, word_tokenize, PunktSentenceTokenizer\n",
    "from nltk.corpus import stopwords\n",
    "import string\n",
    "from nltk.stem import PorterStemmer\n",
    "from nltk import pos_tag, ne_chunk\n",
    "import nltk\n",
    "import math\n",
    "import json\n",
    "from geopy import distance\n",
    "import numpy\n",
    "import heapq_max\n"
   ]
  },
  {
   "cell_type": "markdown",
   "metadata": {},
   "source": [
    "## Step 2: Create documents"
   ]
  },
  {
   "cell_type": "markdown",
   "metadata": {},
   "source": [
    "We want to create a `.tsv` file for each record of the dataset.\n",
    "First thing to do is reading the file."
   ]
  },
  {
   "cell_type": "code",
   "execution_count": 573,
   "metadata": {},
   "outputs": [],
   "source": [
    "#opening the csv file containing all the rooms in Texas\n",
    "f = pd.read_csv(r'C:\\Users\\mccol\\Desktop\\Sapienza\\ADM\\HW3\\Airbnb_Texas_Rentals.csv')\n",
    "\n",
    "\n",
    "#taking only the average_rate_per_night for each entry in the dataframe\n",
    "f['price_rank'] = list(map(lambda x: str(x)[1:], f['average_rate_per_night']))\n"
   ]
  },
  {
   "cell_type": "markdown",
   "metadata": {},
   "source": [
    "Now we can create `.tsv` files and store them in a directory."
   ]
  },
  {
   "cell_type": "code",
   "execution_count": null,
   "metadata": {},
   "outputs": [],
   "source": [
    "#creating all the tsv files from the dataframe\n",
    "for i in range(f.index.max()+1):\n",
    "    op = open(r'C:\\Users\\mccol\\Desktop\\Sapienza\\ADM\\HW3\\doc\\doc_' + str(i) + '.tsv', 'w', encoding=\"utf-8\")\n",
    "    for j in range(10):\n",
    "        op.write('%s\\t' %f.iloc[i, j])\n",
    "    op.close()"
   ]
  },
  {
   "cell_type": "markdown",
   "metadata": {},
   "source": [
    "## Step 3: Search Engine"
   ]
  },
  {
   "cell_type": "markdown",
   "metadata": {},
   "source": [
    "Now, we want to create two different Search Engines that, given as input a query, return the houses that match the query.\n",
    "\n",
    "As a first common step, we want to preprocess the documents by\n",
    "\n",
    "1. Removing stopwords\n",
    "2. Removing punctuation\n",
    "3. Stemming\n",
    "\n",
    "Then we want to build a file named `vocabulary.txt`, that maps each word to an integer (`term_id`)."
   ]
  },
  {
   "cell_type": "code",
   "execution_count": 574,
   "metadata": {},
   "outputs": [],
   "source": [
    "#FUNCTIONS\n",
    "\n",
    "#preprocess takes a list of words as input and RETURNS a list of stemmed words without stopwords and punctuation\n",
    "def preprocess(l):\n",
    "    final = []\n",
    "    for i in l:\n",
    "        if not((ps.stem(i) in stopWords) or (ps.stem(i) in (string.punctuation) )):\n",
    "            final.append(ps.stem(i))\n",
    "    return (final)\n",
    "\n",
    "#takes a dictionary, a list of words and an integer. RETURNS a dictionary of words and an integer.\n",
    "#this functions map each word in vocabulary to an integer (that starts from index)\n",
    "def vocabularization(vocabulary, final, index):\n",
    "    for word in final:\n",
    "        if not(word in vocabulary):\n",
    "            vocabulary[word] = str(index)\n",
    "            index = index + 1\n",
    "    return(vocabulary, index)\n",
    "\n",
    "#list of stopwords\n",
    "stopWords = set(stopwords.words('english'))\n",
    "#the stemmer used\n",
    "ps = PorterStemmer()\n",
    "#list of punctuation used\n",
    "string.punctuation = string.punctuation + '–“”’'\n"
   ]
  },
  {
   "cell_type": "code",
   "execution_count": 71,
   "metadata": {
    "scrolled": true
   },
   "outputs": [],
   "source": [
    "#creating the vocabulary that maps a word to an integer\n",
    "vocabulary= {}\n",
    "index = 0\n",
    "\n",
    "for i in range(18259):\n",
    "    \n",
    "    op = open(r'C:\\Users\\mccol\\Desktop\\Sapienza\\ADM\\HW3\\doc\\doc_' + str(i) + '.tsv', 'r', encoding=\"utf-8\")\n",
    "    for line in op:\n",
    "        ou = line.strip().split('\\t')\n",
    "        sentence = ou[5].replace('\\\\n', ' ').replace('/', ' ').replace('*', ' ').replace('\\\\r', ' ').replace('\\\\t', ' ') + ' ' + ou[8].replace('\\\\n', ' ').replace('/', ' ').replace('*', ' ').replace('\\\\r', ' ').replace('\\\\t', ' ')\n",
    "    op.close()\n",
    "        \n",
    "    #preprocessing data deleting stop words, punctuations, ecc.  \n",
    "    final = preprocess(word_tokenize(sentence))\n",
    "    \n",
    "    # IF  word not in vocabulary -> add the word\n",
    "    vocabulary, index = vocabularization(vocabulary, final, index)\n",
    "            \n",
    "op = open(r'C:\\Users\\mccol\\Desktop\\Sapienza\\ADM\\HW3\\vocabulary.txt', 'w', encoding=\"utf-8\")\n",
    "op.write(json.dumps(vocabulary))\n",
    "op.close()"
   ]
  },
  {
   "cell_type": "code",
   "execution_count": 575,
   "metadata": {},
   "outputs": [],
   "source": [
    "#opening the created vocabulary.txt\n",
    "op = open(r'C:\\Users\\mccol\\Desktop\\Sapienza\\ADM\\HW3\\vocabulary.txt', 'r', encoding=\"utf-8\")\n",
    "vocabulary = json.loads(op.read())"
   ]
  },
  {
   "cell_type": "markdown",
   "metadata": {},
   "source": [
    "### 3.1) Conjunctive query\n",
    "At this moment, we narrow out interest on the `description` and `title` of each document. It means that the first Search Engine will evaluate queries with respect to the aforementioned information."
   ]
  },
  {
   "cell_type": "markdown",
   "metadata": {},
   "source": [
    "#### 3.1.1) Creating our index!\n",
    "\n",
    "We want to create the Inverted Index. It will be a dictionary of this format:\n",
    "\n",
    "```\n",
    "{\n",
    "term_id_1:[document_1, document_2, document_4],\n",
    "term_id_2:[document_1, document_3, document_5, document_6],\n",
    "...}\n",
    "```\n",
    "\n",
    "where _document\\_i_ is the *id* of a document that contains the word.\n",
    "\n",
    "We also want to store it in a separate file and load it in memory when needed."
   ]
  },
  {
   "cell_type": "code",
   "execution_count": null,
   "metadata": {},
   "outputs": [],
   "source": [
    "#from the vocabulary, tha inverted index is created\n",
    "inverted_index = {}\n",
    "\n",
    "for file in range(18259):\n",
    "\n",
    "    op = open(r'C:\\Users\\mccol\\Desktop\\Sapienza\\ADM\\HW3\\doc\\doc_' + str(file) + '.tsv', 'r', encoding=\"utf-8\")\n",
    "    for line in op:\n",
    "        ou = line.strip().split('\\t')\n",
    "        sentence = ou[5].replace('\\\\n', ' ').replace('/', ' ').replace('*', ' ').replace('\\\\r', ' ').replace('\\\\t', ' ') + ' ' + ou[8].replace('\\\\n', ' ').replace('/', ' ').replace('*', ' ').replace('\\\\r', ' ').replace('\\\\t', ' ')\n",
    "    op.close()\n",
    " \n",
    "    \n",
    "    #preprocessing data deleting stop words, punctuations, ecc.  \n",
    "    final = preprocess(word_tokenize(sentence))\n",
    "    \n",
    "    \n",
    "    #CREATING INVERTED INDEX\n",
    "    for word in final:\n",
    "        index = vocabulary[word]\n",
    "        if not (index in inverted_index):\n",
    "            inverted_index[index] = ['doc_' + str(file)]\n",
    "        elif not('doc_' + str(file) in inverted_index[index]):\n",
    "            inverted_index[index] = inverted_index[index] + ['doc_' + str(file)]\n",
    "\n",
    "op = open(r'C:\\Users\\mccol\\Desktop\\Sapienza\\ADM\\HW3\\inverted_index.txt', 'w', encoding=\"utf-8\")\n",
    "op.write(json.dumps(inverted_index))\n",
    "op.close()"
   ]
  },
  {
   "cell_type": "code",
   "execution_count": 577,
   "metadata": {},
   "outputs": [],
   "source": [
    "#opening the created inverted_index.txt\n",
    "\n",
    "op = open(r'C:\\Users\\mccol\\Desktop\\Sapienza\\ADM\\HW3\\inverted_index.txt', 'r', encoding=\"utf-8\")\n",
    "inverted_index = json.loads(op.read())\n"
   ]
  },
  {
   "cell_type": "markdown",
   "metadata": {},
   "source": [
    "#### 3.1.2) Execute the query\n",
    "Now given a query, that we let the user enter:\n",
    "```\n",
    "queen netflix\n",
    "```\n",
    "we want that the Search Engine returns a list of documents that contains all the words in the query."
   ]
  },
  {
   "cell_type": "markdown",
   "metadata": {},
   "source": [
    "Query input:"
   ]
  },
  {
   "cell_type": "code",
   "execution_count": 578,
   "metadata": {},
   "outputs": [
    {
     "name": "stdout",
     "output_type": "stream",
     "text": [
      "What are you searching?\n",
      "Room with Netflix and garden\n"
     ]
    }
   ],
   "source": [
    "#handling the query\n",
    "user_query = input('What are you searching?\\n')\n",
    "    \n",
    "#preprocessing data deleting stop words, punctuations, ecc.  \n",
    "#final contains the processed words\n",
    "query = preprocess(word_tokenize(user_query))\n"
   ]
  },
  {
   "cell_type": "markdown",
   "metadata": {},
   "source": [
    "Traducing the query in our 'language':"
   ]
  },
  {
   "cell_type": "code",
   "execution_count": 579,
   "metadata": {},
   "outputs": [],
   "source": [
    "#taking from the inverted index only the words present in the query\n",
    "voc = {}\n",
    "inverted_index_query = {}\n",
    "i=0\n",
    "for word in query: \n",
    "    voc[i]  = vocabulary[word]\n",
    "    i = i+1\n",
    "for index in range(i):\n",
    "    inverted_index_query[voc[index]] = inverted_index[voc[index]]\n"
   ]
  },
  {
   "cell_type": "markdown",
   "metadata": {},
   "source": [
    "Finding list of docs that contain all the words in the query and printing them in the format that we want:"
   ]
  },
  {
   "cell_type": "code",
   "execution_count": 580,
   "metadata": {
    "scrolled": true
   },
   "outputs": [
    {
     "data": {
      "text/html": [
       "<style  type=\"text/css\" >\n",
       "</style>  \n",
       "<table id=\"T_ba4e313a_e9e3_11e8_a0c3_204747782cb8\" > \n",
       "<thead>    <tr> \n",
       "        <th class=\"col_heading level0 col0\" >title</th> \n",
       "        <th class=\"col_heading level0 col1\" >description</th> \n",
       "        <th class=\"col_heading level0 col2\" >city</th> \n",
       "        <th class=\"col_heading level0 col3\" >url</th> \n",
       "    </tr></thead> \n",
       "<tbody>    <tr> \n",
       "        <td id=\"T_ba4e313a_e9e3_11e8_a0c3_204747782cb8row0_col0\" class=\"data row0 col0\" >2 blocks to Rainey! Walk downtown!</td> \n",
       "        <td id=\"T_ba4e313a_e9e3_11e8_a0c3_204747782cb8row0_col1\" class=\"data row0 col1\" >HOLIDAYS, LOCAL EVENTS, HIGH DEMAND WEEKENDS, DATES WITH LOW AVAILABILITY MAY BE SUBJECT TO HIGHER RATES, NIGHT MINIMUMS, AND/OR HIGHER FEES. AVAILABILITY SHOWN ON THIS CALENDAR'S WEBSITE IS NOT ALWAYS 100% ACCURATE. IT IS ALWAYS BEST TO INQUIRE WITH THE HOST/MANAGER/HOMEOWNER TO VERIFY AVAILABILTY AND A SPECIFIC QUOTE FOR YOUR STAY. QUOTES MAY DIFFER FROM THE BASE RATES, BASE FEES, NIGHT MINIMUMS AND/OR QUOTES PROVIDED BY THIS WEBSITE AND/OR DISPLAYED ON CALENDAR  PLEASE READ ALL HOUSE RULES AVAILABLE ON WEBSITE AND/OR PROVIDED BEFORE BOOKING. ALL GUESTS ON RESERVATION MUST UNDERSTAND AND FOLLOW ALL RULES.  Taylor House is in a residential neighborhood and all Guests will need to acknowledge they agree to respect my neighbors and the surrounding community to be accepted. Noise levels will be closely monitored. PARTIES ARE NOT ALLOWED. See below for more information.  Welcome to my home! I look forward to hosting you!  This is the perfect vacation rental home in downtown Austin! I strive to provide Guests with the perfect home base with all the creature comforts, in the perfect location for exploring what Austin has to offer. I have lived in Austin my entire life and I want to help make your trip one-of-a-kind! I’m available for suggestions of trendy new hot spots, and unique, only in Austin activities!  Your perfect stay in the perfect location for the perfect vacation!  A must stay! 2 blocks from the Rainey Street entertainment district! This area is the go-to spot for the Austin young professional nightlife scene. A short walk anywhere else downtown, including the convention center. The East 6th Street entertainment district is blocks away. Walk 2 blocks to Lady Bird Lake. Walk/Run/Bike the scenic Hike and Bike Trail or Kayak/Paddle Board on the lake as the sun sets. Kayak/Paddle Board/Small sailing and paddle boat rentals available blocks away. Walking distance to 6th Street, Congress, Paramount Theater, restaurants, bars, music venues, Texas Longhorn tailgating, DKR stadium, museums, a public pool, grocery store, coffee shops, comedy shows, improv shows, movie theaters (Alamo Ritz and Violet Crown), breweries (Hops &amp; Grain), theater, art galleries, and other nightlife. The perfect location for the vacationer who wants to walk to everything unique that Austin has to offer. The home has tons of upgrades. Real wood floors. Large master bedroom with big bathroom. Modern kitchen with granite counters and stainless steel appliances. High ceilings. Huge granite island. The perfect fenced in yard for hanging out/re-cooperation. Ping pong table, a cornhole set, a washer set, tons of patio chairs, a Weber grill and tons of games are also included.  Everything you need! (More about the home)  -The home is very well maintained and very clean.  -Tons of windows to let in light for a very open feel.  -1st floor: Big fully furnished living room with a LED TV. Amazon Fire Stick with streaming Netflix subscription and other Apple TV content. There is an antenna that picks up the major networks and some other channels, but this is not guaranteed. There is no cable TV. Great place to recoup while watching some Netflix or grabbing a provided local magazine to find out more about what Austin has to offer. A large granite counter with several stools divides the kitchen and living area. Perfect for meal preparation, dining, a game of cards or just socializing. A state of the art kitchen complete with stainless steel appliances, gas stove, refrigerator/freezer, garbage disposal, dishwasher, microwave, toaster, blender, and coffee maker. Large surfaces for cooking and serving. All needed basic cooking ware and dining ware provided. Stained concrete flooring throughout. Large one half bath. -2nd floor: Master bedroom with private large bathroom. It has a double vanity and a large garden tub/shower. Some soap, shower gel, shampoo and conditioner typically provided. Hair dryer provided. Wood flooring on the stairs and landing. Energy efficient, front-loading Washer/Dryer.  -3rd floor: All wood flooring. 2nd bedroom. Deck overlooking the neighborhood and the downtown skyline. Deck has plenty of seating and a table.  -Yard: The perfect yard with privacy fence for rest, relaxation and socializing. Corhole set, washer set, tons of chairs, ping pong table, and a Weber grill. -Big front patio with chairs. -Central Energy Efficient HVAC.  -1 parking spot on the lot with plenty of free street parking. Please do not park in front of neighboring homes. -High speed WIFI.  -Fresh towels provided.  -Cards and tons of games.  -Fresh coffee.  -BBQ tools. (Bring your own charcoal, lighter fluid and matches) -Hair Dryer.  -Laundry detergent, softener and bleach provided for on-site laundry.  -Iron and ironing board.   Easy to Find!  Arriving by car: 4 blocks off of Cesar Chavez. Very easy to find with plenty of parking in the area.  Arriving by plane: Capitol Metro Bus Route '100-AIRPORT FLYER' drop offs downtown. 15 minute cab ride from the airport. Remember, Austin cabs only take 4 persons at one time. Uber/Lyft/Car2go all available in Austin.  *15% LOCAL AND STATE TAXES ARE TYPICALLY INCLUDED IN THE ONLINE QUOTE .  Austin City Code - Chapt – “Except as otherwise provided in this section, not more than six unrelated adult may reside in a dwelling unit.” (Ordinance No. ). THIS APPLIES TO ALL SHORT TERM/VACATION RENTALS IN AUSTIN. Please inquire further if you have any questions or concerns.  ***Furnishings and amenities will be furnished as described whenever possible. In the event that an item is damaged/broken/lost/consumed the Host will restock as soon as possible. All items in description/pictures are not guaranteed.***  Let me help you have the perfect vacation! Thank you for looking! Have a great day!  OL #</td> \n",
       "        <td id=\"T_ba4e313a_e9e3_11e8_a0c3_204747782cb8row0_col2\" class=\"data row0 col2\" >Austin</td> \n",
       "        <td id=\"T_ba4e313a_e9e3_11e8_a0c3_204747782cb8row0_col3\" class=\"data row0 col3\" >https://www.airbnb.com/rooms/1250575?location=Colorado%20River%2C%20TX</td> \n",
       "    </tr>    <tr> \n",
       "        <td id=\"T_ba4e313a_e9e3_11e8_a0c3_204747782cb8row1_col0\" class=\"data row1 col0\" >Gracious home in quiet neighborhood</td> \n",
       "        <td id=\"T_ba4e313a_e9e3_11e8_a0c3_204747782cb8row1_col1\" class=\"data row1 col1\" >“PJ &amp; Kay go the extra mile to make you feel like you're at a boutique hotel at a quarter of the cost.” (Christin, Feb 2017) A plush queen bed, fresh ground morning coffee, off street parking, personal refrigerator, and free WiFi provide a quiet, private retreat. Spacious library/dining with TV/Netflix set aside for guests. Kitchen, laundry room, &amp; garden use included. Price is for one bedroom &amp; private bath. For additional bedrooms, please book through Two Bedrooms in a Gracious Home.</td> \n",
       "        <td id=\"T_ba4e313a_e9e3_11e8_a0c3_204747782cb8row1_col2\" class=\"data row1 col2\" >Amarillo</td> \n",
       "        <td id=\"T_ba4e313a_e9e3_11e8_a0c3_204747782cb8row1_col3\" class=\"data row1 col3\" >https://www.airbnb.com/rooms/4936459?location=Amarillo%2C%20TX</td> \n",
       "    </tr></tbody> \n",
       "</table> "
      ],
      "text/plain": [
       "<pandas.io.formats.style.Styler at 0x1e1c2117828>"
      ]
     },
     "execution_count": 580,
     "metadata": {},
     "output_type": "execute_result"
    }
   ],
   "source": [
    "#finding list of docs that contains all the words in the query\n",
    "docs = []\n",
    "\n",
    "for i in range(18259):\n",
    "    doc = 'doc_' + str(i)\n",
    "    b = True\n",
    "    for j in voc.values(): \n",
    "        b = b and (doc in inverted_index_query[j])\n",
    "    if b:\n",
    "        docs.append(i)\n",
    "\n",
    "#printing the table with docs with all the words in the query\n",
    "df = f.filter(items = ['title', 'description', 'city', 'url']).loc[docs]\n",
    "df.description = list(map(lambda x: x.replace('\\\\n', ' '), df.description.tolist()))\n",
    "df.style.hide_index()"
   ]
  },
  {
   "cell_type": "markdown",
   "metadata": {},
   "source": [
    "### 3.2) Conjunctive query & Ranking score\n",
    "In the new Search Engine, given a query, we want to get the *top-k* (the choice of *k* it's up to you!) documents related to the query. In particular we want:\n",
    "\n",
    "* Find all the documents that contains all the words in the query (as before...).\n",
    "* Sort them by their similarity with the query\n",
    "* Return in output *k* documents, or all the documents with non-zero similarity with the query when the results are less than _k_.\n",
    "\n",
    "To solve this task, we use the *tfIdf* score, and the _Cosine similarity_. Let's see how."
   ]
  },
  {
   "cell_type": "markdown",
   "metadata": {},
   "source": [
    "First thing; we create a new inverted index that contains `tfIdf`s:"
   ]
  },
  {
   "cell_type": "code",
   "execution_count": 87,
   "metadata": {},
   "outputs": [],
   "source": [
    "#from the vocabulary the inverted index is created. In this case the index are mapped to a tuple (doc, tf-idf)\n",
    "\n",
    "inverted_index_2 = {}\n",
    "\n",
    "for file in range(18259):\n",
    "\n",
    "    op = open(r'C:\\Users\\mccol\\Desktop\\Sapienza\\ADM\\HW3\\doc\\doc_' + str(file) + '.tsv', 'r', encoding=\"utf-8\")\n",
    "    for line in op:\n",
    "        ou = line.strip().split('\\t')\n",
    "        sentence = ou[5].replace('\\\\n', ' ').replace('/', ' ').replace('*', ' ').replace('\\\\r', ' ').replace('\\\\t', ' ') + ' ' + ou[8].replace('\\\\n', ' ').replace('/', ' ').replace('*', ' ').replace('\\\\r', ' ').replace('\\\\t', ' ')\n",
    "    op.close()\n",
    " \n",
    "    \n",
    "    #preprocessing data deleting stop words, punctuations, ecc.  \n",
    "    final = preprocess(word_tokenize(sentence))\n",
    "    \n",
    "    \n",
    "    #CREATING INVERTED INDEX with tf-idf values\n",
    "    for word in final:\n",
    "        index = vocabulary[word]\n",
    "        \n",
    "        tf = final.count(word) / len(final)\n",
    "        idf = math.log( 18259 / len(inverted_index[vocabulary[word]]))\n",
    "        tf_idf = tf*idf\n",
    "        \n",
    "        if not (index in inverted_index_2):\n",
    "            inverted_index_2[index] = [('doc_' + str(file), tf_idf )]\n",
    "        elif not(('doc_' + str(file), tf_idf)  in inverted_index_2[index]):\n",
    "            inverted_index_2[index] = inverted_index_2[index] + [('doc_' + str(file), tf_idf)]\n",
    "\n",
    "\n",
    "op = open(r'C:\\Users\\mccol\\Desktop\\Sapienza\\ADM\\HW3\\inverted_index_2.txt', 'w', encoding=\"utf-8\")\n",
    "op.write(json.dumps(inverted_index_2))\n",
    "op.close()"
   ]
  },
  {
   "cell_type": "code",
   "execution_count": 581,
   "metadata": {},
   "outputs": [],
   "source": [
    "#opening the created inverted_index_2.txt\n",
    "\n",
    "op = open(r'C:\\Users\\mccol\\Desktop\\Sapienza\\ADM\\HW3\\inverted_index_2.txt', 'r', encoding=\"utf-8\")\n",
    "inverted_index_2 = json.loads(op.read())\n"
   ]
  },
  {
   "cell_type": "markdown",
   "metadata": {},
   "source": [
    "Query input:"
   ]
  },
  {
   "cell_type": "code",
   "execution_count": 598,
   "metadata": {},
   "outputs": [
    {
     "name": "stdout",
     "output_type": "stream",
     "text": [
      "What are you searching?\n",
      "Room with Netflix and garden\n"
     ]
    },
    {
     "data": {
      "text/plain": [
       "['room', 'netflix', 'garden']"
      ]
     },
     "execution_count": 598,
     "metadata": {},
     "output_type": "execute_result"
    }
   ],
   "source": [
    "user_query = input('What are you searching?\\n')\n",
    "\n",
    "#preprocessing data deleting stop words, punctuations, ecc.  \n",
    "query = preprocess(word_tokenize(user_query))\n",
    "query"
   ]
  },
  {
   "cell_type": "markdown",
   "metadata": {},
   "source": [
    "Traducing the query in our 'language':"
   ]
  },
  {
   "cell_type": "code",
   "execution_count": 623,
   "metadata": {},
   "outputs": [],
   "source": [
    "voc = {}\n",
    "inverted_query = {}\n",
    "i=0\n",
    "\n",
    "#taking only the words in query from the inverted_index_2\n",
    "for word in query: \n",
    "    voc[i]  = vocabulary[word]\n",
    "    i = i+1\n",
    "for index in range(i):\n",
    "    inverted_query[voc[index]] = inverted_index_2[voc[index]]\n",
    "\n"
   ]
  },
  {
   "cell_type": "markdown",
   "metadata": {},
   "source": [
    "finding nominator of cosine similarity formula:"
   ]
  },
  {
   "cell_type": "code",
   "execution_count": 622,
   "metadata": {
    "scrolled": true
   },
   "outputs": [],
   "source": [
    "n = {}\n",
    "index = 0\n",
    "\n",
    "#finding numerator for the cosine similarity\n",
    "#normalization of the document vector to the length of the query  \n",
    "for i in inverted_query:\n",
    "    for j in inverted_query[i]:\n",
    "        if index == 0:\n",
    "            n[j[0]] = [j[1]]\n",
    "        elif (not (j[0] in n)):\n",
    "            n[j[0]] = [0]*index + ([j[1]])\n",
    "        else:   \n",
    "            n[j[0]] = n[j[0]] + [0]*(index - len(n[j[0]])) + ([j[1]])\n",
    "    index = index + 1\n",
    "\n",
    "    \n",
    "for i in n:\n",
    "    if len(n[i]) < len(query) :\n",
    "        n[i] = n[i] + [0]*(len(query)-len(n[i]))\n"
   ]
  },
  {
   "cell_type": "markdown",
   "metadata": {},
   "source": [
    "finding tfidfs of the query:"
   ]
  },
  {
   "cell_type": "code",
   "execution_count": 615,
   "metadata": {},
   "outputs": [],
   "source": [
    "#calculating tf-idf of the query\n",
    "tfidf_query = []  \n",
    "for word in query:\n",
    "    tf_query = query.count(word) / len(query)\n",
    "    idf_query = math.log( 18259 / len(inverted_index[vocabulary[word]]))\n",
    "    tfidf_query.append(tf_query * idf_query)\n"
   ]
  },
  {
   "cell_type": "markdown",
   "metadata": {},
   "source": [
    "finding denominator of our dear formula: norm of the query and norm of docs:"
   ]
  },
  {
   "cell_type": "code",
   "execution_count": 616,
   "metadata": {},
   "outputs": [],
   "source": [
    "#norm of the query\n",
    "norm_query = numpy.sqrt(sum(list(map(lambda x: x**2, tfidf_query))))"
   ]
  },
  {
   "cell_type": "code",
   "execution_count": 617,
   "metadata": {},
   "outputs": [],
   "source": [
    "#norm of each 'normalized' document \n",
    "norm_doc = {}\n",
    "for i in range(18259):\n",
    "    doc = 'doc_'+ str(i)\n",
    "    nomin = 0\n",
    "    for i in inverted_query:\n",
    "        for j in inverted_query[i]:\n",
    "            if j[0] == doc :\n",
    "                nomin = nomin + j[1]**2\n",
    "                norm_doc[doc] = nomin\n",
    "for i in norm_doc:\n",
    "    norm_doc[i] = numpy.sqrt(norm_doc[i])\n"
   ]
  },
  {
   "cell_type": "markdown",
   "metadata": {},
   "source": [
    "sorting them with haep algorithms:"
   ]
  },
  {
   "cell_type": "code",
   "execution_count": 618,
   "metadata": {},
   "outputs": [],
   "source": [
    "#finding the cosine similarities for each word \n",
    "cosines= []\n",
    "for i in n:\n",
    "    st = i\n",
    "    cos = numpy.dot(tfidf_query, n[st])\n",
    "    cosine = round(cos / (norm_doc[st]*norm_query), 10)\n",
    "\n",
    "    cosines.append((cosine, i ))\n"
   ]
  },
  {
   "cell_type": "code",
   "execution_count": 620,
   "metadata": {},
   "outputs": [
    {
     "name": "stdout",
     "output_type": "stream",
     "text": [
      "The best 5 docs are:  [17221, 9967, 6957, 17622, 1671]\n"
     ]
    }
   ],
   "source": [
    "#create the max heap from the cosine similarituìies values and taking the k-largest values\n",
    "k = 5\n",
    "\n",
    "heap_max = []\n",
    "for i in cosines:\n",
    "    heapq_max.heappush_max(heap_max, i)\n",
    "heap_max\n",
    "\n",
    "best_cosine = []\n",
    "docs = []\n",
    "for i in range(k):\n",
    "    cos = heapq_max.heappop_max(heap_max)\n",
    "    best_cosine.append(cos[0])\n",
    "    docs.append(int(cos[1][4:]))\n",
    "print('The best ' + str(k) + ' docs are: ', docs)"
   ]
  },
  {
   "cell_type": "code",
   "execution_count": 621,
   "metadata": {},
   "outputs": [
    {
     "data": {
      "text/html": [
       "<style  type=\"text/css\" >\n",
       "</style>  \n",
       "<table id=\"T_14255418_e9e5_11e8_99fc_204747782cb8\" > \n",
       "<thead>    <tr> \n",
       "        <th class=\"col_heading level0 col0\" >title</th> \n",
       "        <th class=\"col_heading level0 col1\" >description</th> \n",
       "        <th class=\"col_heading level0 col2\" >city</th> \n",
       "        <th class=\"col_heading level0 col3\" >url</th> \n",
       "        <th class=\"col_heading level0 col4\" >ranking</th> \n",
       "    </tr></thead> \n",
       "<tbody>    <tr> \n",
       "        <td id=\"T_14255418_e9e5_11e8_99fc_204747782cb8row0_col0\" class=\"data row0 col0\" >Gracious home in quiet neighborhood</td> \n",
       "        <td id=\"T_14255418_e9e5_11e8_99fc_204747782cb8row0_col1\" class=\"data row0 col1\" >“PJ &amp; Kay go the extra mile to make you feel like you're at a boutique hotel at a quarter of the cost.” (Christin, Feb 2017) A plush queen bed, fresh ground morning coffee, off street parking, personal refrigerator, and free WiFi provide a quiet, private retreat. Spacious library/dining with TV/Netflix set aside for guests. Kitchen, laundry room, &amp; garden use included. Price is for one bedroom &amp; private bath. For additional bedrooms, please book through Two Bedrooms in a Gracious Home.</td> \n",
       "        <td id=\"T_14255418_e9e5_11e8_99fc_204747782cb8row0_col2\" class=\"data row0 col2\" >Amarillo</td> \n",
       "        <td id=\"T_14255418_e9e5_11e8_99fc_204747782cb8row0_col3\" class=\"data row0 col3\" >https://www.airbnb.com/rooms/4936459?location=Amarillo%2C%20TX</td> \n",
       "        <td id=\"T_14255418_e9e5_11e8_99fc_204747782cb8row0_col4\" class=\"data row0 col4\" >1</td> \n",
       "    </tr>    <tr> \n",
       "        <td id=\"T_14255418_e9e5_11e8_99fc_204747782cb8row1_col0\" class=\"data row1 col0\" >Museum District Flat w/Garden Deck</td> \n",
       "        <td id=\"T_14255418_e9e5_11e8_99fc_204747782cb8row1_col1\" class=\"data row1 col1\" >Urban Hideaway with 81 WalkScore:   MFAH/Menil/Rothko/Natural Science Museums Texas Medical Ctr House of Blues/Jones Hall/Wortham Center/Alley Theatre Rice &amp; St. Thomas Universities George R. Brown &amp; Toyota Ctrs Minute Maid &amp; NRG by rail*  WiFi Netflix/Amazon with Starz/NO cable Microwave/Keurig/Mini-Fridge  Review photo CAPTIONS FYI  Urban setting near 527 Spur. Ample Street Parking. Shared Deck &amp; W/D with 2 Airbnb units. *Rail at Wheeler Station E of 59 attracts all kinds</td> \n",
       "        <td id=\"T_14255418_e9e5_11e8_99fc_204747782cb8row1_col2\" class=\"data row1 col2\" >Houston</td> \n",
       "        <td id=\"T_14255418_e9e5_11e8_99fc_204747782cb8row1_col3\" class=\"data row1 col3\" >https://www.airbnb.com/rooms/5968747?location=Bellaire%2C%20TX</td> \n",
       "        <td id=\"T_14255418_e9e5_11e8_99fc_204747782cb8row1_col4\" class=\"data row1 col4\" >0.976871</td> \n",
       "    </tr>    <tr> \n",
       "        <td id=\"T_14255418_e9e5_11e8_99fc_204747782cb8row2_col0\" class=\"data row2 col0\" >Museum District Flat w/Garden Deck</td> \n",
       "        <td id=\"T_14255418_e9e5_11e8_99fc_204747782cb8row2_col1\" class=\"data row2 col1\" >Urban Hideaway with 81 WalkScore:   MFAH/Menil/Rothko/Natural Science Museums Texas Medical Ctr House of Blues/Jones Hall/Wortham Center/Alley Theatre Rice &amp; St. Thomas Universities George R. Brown &amp; Toyota Ctrs Minute Maid &amp; NRG by rail*  WiFi Netflix/Amazon with Starz/NO cable Microwave/Keurig/Mini-Fridge  Review photo CAPTIONS FYI  Urban setting near 527 Spur. Ample Street Parking. Shared Deck &amp; W/D with 2 Airbnb units. *Rail at Wheeler Station E of 59 attracts all kinds</td> \n",
       "        <td id=\"T_14255418_e9e5_11e8_99fc_204747782cb8row2_col2\" class=\"data row2 col2\" >Houston</td> \n",
       "        <td id=\"T_14255418_e9e5_11e8_99fc_204747782cb8row2_col3\" class=\"data row2 col3\" >https://www.airbnb.com/rooms/5968747?location=Baytown%2C%20TX</td> \n",
       "        <td id=\"T_14255418_e9e5_11e8_99fc_204747782cb8row2_col4\" class=\"data row2 col4\" >0.976871</td> \n",
       "    </tr>    <tr> \n",
       "        <td id=\"T_14255418_e9e5_11e8_99fc_204747782cb8row3_col0\" class=\"data row3 col0\" >Museum District Flat w/Garden Deck</td> \n",
       "        <td id=\"T_14255418_e9e5_11e8_99fc_204747782cb8row3_col1\" class=\"data row3 col1\" >Urban Hideaway with 81 WalkScore:   MFAH/Menil/Rothko/Natural Science Museums Texas Medical Ctr House of Blues/Jones Hall/Wortham Center/Alley Theatre Rice &amp; St. Thomas Universities George R. Brown &amp; Toyota Ctrs Minute Maid &amp; NRG by rail*  WiFi Netflix/Amazon with Starz/NO cable Microwave/Keurig/Mini-Fridge  Review photo CAPTIONS FYI  Urban setting near 527 Spur. Ample Street Parking. Shared Deck &amp; W/D with 2 Airbnb units. *Rail at Wheeler Station E of 59 attracts all kinds</td> \n",
       "        <td id=\"T_14255418_e9e5_11e8_99fc_204747782cb8row3_col2\" class=\"data row3 col2\" >Houston</td> \n",
       "        <td id=\"T_14255418_e9e5_11e8_99fc_204747782cb8row3_col3\" class=\"data row3 col3\" >https://www.airbnb.com/rooms/5968747?location=Alvin%2C%20TX</td> \n",
       "        <td id=\"T_14255418_e9e5_11e8_99fc_204747782cb8row3_col4\" class=\"data row3 col4\" >0.976871</td> \n",
       "    </tr>    <tr> \n",
       "        <td id=\"T_14255418_e9e5_11e8_99fc_204747782cb8row4_col0\" class=\"data row4 col0\" >Museum District Flat w/Garden Deck</td> \n",
       "        <td id=\"T_14255418_e9e5_11e8_99fc_204747782cb8row4_col1\" class=\"data row4 col1\" >Urban Hideaway with 81 WalkScore:   MFAH/Menil/Rothko/Natural Science Museums Texas Medical Ctr House of Blues/Jones Hall/Wortham Center/Alley Theatre Rice &amp; St. Thomas Universities George R. Brown &amp; Toyota Ctrs Minute Maid &amp; NRG by rail*  WiFi Netflix/Amazon with Starz/NO cable Microwave/Keurig/Mini-Fridge  Review photo CAPTIONS FYI  Urban setting near 527 Spur. Ample Street Parking. Shared Deck &amp; W/D with 2 Airbnb units. *Rail at Wheeler Station E of 59 attracts all kinds</td> \n",
       "        <td id=\"T_14255418_e9e5_11e8_99fc_204747782cb8row4_col2\" class=\"data row4 col2\" >Houston</td> \n",
       "        <td id=\"T_14255418_e9e5_11e8_99fc_204747782cb8row4_col3\" class=\"data row4 col3\" >https://www.airbnb.com/rooms/5968747?location=Brazos%20River%2C%20TX</td> \n",
       "        <td id=\"T_14255418_e9e5_11e8_99fc_204747782cb8row4_col4\" class=\"data row4 col4\" >0.976871</td> \n",
       "    </tr></tbody> \n",
       "</table> "
      ],
      "text/plain": [
       "<pandas.io.formats.style.Styler at 0x1e1d301c0f0>"
      ]
     },
     "execution_count": 621,
     "metadata": {},
     "output_type": "execute_result"
    }
   ],
   "source": [
    "#print the table with the best k documents found and their ranking\n",
    "\n",
    "df = f.filter(items = ['title', 'description', 'city', 'url']).loc[docs]\n",
    "df.description = list(map(lambda x: x.replace('\\\\n', ' '), df.description.tolist()))\n",
    "df['ranking'] = best_cosine\n",
    "df.style.hide_index()"
   ]
  },
  {
   "cell_type": "markdown",
   "metadata": {},
   "source": [
    "### USER QUERIES"
   ]
  },
  {
   "cell_type": "code",
   "execution_count": 331,
   "metadata": {},
   "outputs": [
    {
     "name": "stdout",
     "output_type": "stream",
     "text": [
      "Where do you want to go?\n",
      "dallas\n",
      "How much do you want to spend?\n",
      "100\n",
      "How many bedrooms do you want?\n",
      "2\n"
     ]
    }
   ],
   "source": [
    "#asking the user where he/she wanna go\n",
    "user_city = input('Where do you want to go?\\n')\n",
    "\n",
    "#asking the user how much he want to spend\n",
    "user_price = input('How much do you want to spend?\\n')\n",
    "\n",
    "#asking the user how many bedrooms the client wants\n",
    "user_bedroom = input('How many bedrooms do you want?\\n')"
   ]
  },
  {
   "cell_type": "markdown",
   "metadata": {},
   "source": [
    "#### CITY RANKING"
   ]
  },
  {
   "cell_type": "code",
   "execution_count": 624,
   "metadata": {},
   "outputs": [],
   "source": [
    "#taking from the dataframe only the cities with their means of coordinates\n",
    "f['city'] = list(map(lambda x: x.lower(), f['city']))\n",
    "f.at[1216, 'latitude'] = 31.498774\n",
    "f.at[1216, 'longitude'] = -94.345574\n",
    "geo_city = f.groupby('city').mean().filter(['latitude', 'longitude'])"
   ]
  },
  {
   "cell_type": "code",
   "execution_count": 625,
   "metadata": {},
   "outputs": [
    {
     "name": "stdout",
     "output_type": "stream",
     "text": [
      "Coordinates for the request city:  (32.846866634629194, -96.78907793292947)\n"
     ]
    }
   ],
   "source": [
    "#find the coordinates for the inserted city\n",
    "coord_city = (geo_city[geo_city.index == user_city]['latitude'].values[0], geo_city[geo_city.index == user_city]['longitude'].values[0])\n",
    "print('Coordinates for the request city: ', coord_city)"
   ]
  },
  {
   "cell_type": "code",
   "execution_count": 626,
   "metadata": {},
   "outputs": [],
   "source": [
    "#fill the NaN latitudine and longitude with the mean location of the city \n",
    "for i in f[numpy.isnan(f.latitude)].index:\n",
    "    latitude = (geo_city.loc[(f.loc[i, 'city'])][0])\n",
    "    longitude = (geo_city.loc[(f.loc[i, 'city'])][1])\n",
    "\n",
    "    f.at[i, 'latitude'] = latitude\n",
    "    f.at[i, 'longitude'] = longitude"
   ]
  },
  {
   "cell_type": "code",
   "execution_count": 627,
   "metadata": {},
   "outputs": [],
   "source": [
    "#distance betweeen user coords and room coords \n",
    "dist = []\n",
    "\n",
    "index = 0\n",
    "for i in f.index:\n",
    "    dist.append(distance.distance((f.loc[i, 'latitude'], f.loc[i, 'longitude']), coord_city).km)  \n"
   ]
  },
  {
   "cell_type": "code",
   "execution_count": 628,
   "metadata": {},
   "outputs": [],
   "source": [
    "#rankings for city\n",
    "rankings_city = {}\n",
    "for i in range(len(dist)):\n",
    "    if(dist[i] >= 0):\n",
    "        rankings_city[i] = 1 - ((dist[i] - min(dist) ) / (max(dist)- min(dist)))\n",
    "    else:\n",
    "        rankings_city[i] = None\n",
    "rankings_city    \n",
    "f['city_rank'] = rankings_city.values()"
   ]
  },
  {
   "cell_type": "code",
   "execution_count": 629,
   "metadata": {},
   "outputs": [],
   "source": [
    "rankings_city = {}\n",
    "rang  = max(dist) - min(dist) \n",
    "\n",
    "#rank to each city in Texas. Highest ranks are for the closest cities to the user's one. \n",
    "for city in geo_city.index:\n",
    "    coord = (geo_city[geo_city.index == city]['latitude'].values[0], geo_city[geo_city.index == city]['longitude'].values[0])\n",
    "    rank = 1 - ((distance.distance(coord, coord_city).km - min(dist)) / rang)\n",
    "    rankings_city[city] = rank\n"
   ]
  },
  {
   "cell_type": "markdown",
   "metadata": {},
   "source": [
    "#### PRICE RANKING"
   ]
  },
  {
   "cell_type": "code",
   "execution_count": 630,
   "metadata": {},
   "outputs": [],
   "source": [
    "#column of average price without the '$' char\n",
    "f['price_rank'] = list(map(lambda x: str(x)[1:], f['average_rate_per_night']))"
   ]
  },
  {
   "cell_type": "code",
   "execution_count": 631,
   "metadata": {},
   "outputs": [],
   "source": [
    "#distances between the average price of the room and the user price\n",
    "price_dist=[]\n",
    "for i in f.price_rank.values:\n",
    "    try:\n",
    "        price_dist.append(abs((int(i)) - int(user_price ))  )\n",
    "    except:\n",
    "        price_dist.append(-1)\n"
   ]
  },
  {
   "cell_type": "code",
   "execution_count": 632,
   "metadata": {},
   "outputs": [],
   "source": [
    "#taking the range (min and max) from the distances\n",
    "minimum = price_dist[0]\n",
    "for i in price_dist:\n",
    "        if i < minimum and not(i == -1):\n",
    "            minimum = i\n",
    "rang = max(price_dist) - minimum           "
   ]
  },
  {
   "cell_type": "code",
   "execution_count": 633,
   "metadata": {},
   "outputs": [],
   "source": [
    "#finding the rankings\n",
    "#logarithm cause the range min-max is really high\n",
    "rankings_price = {}\n",
    "for i in range(len(price_dist)):\n",
    "    if(price_dist[i] >= 0):\n",
    "        rankings_price[i] = 1-(numpy.log(price_dist[i]+1))/10\n",
    "    else:\n",
    "        rankings_price[i] = None\n",
    "rankings_price    \n",
    "f['price_rank'] = rankings_price.values()"
   ]
  },
  {
   "cell_type": "markdown",
   "metadata": {},
   "source": [
    "#### BEDROOM RANKING"
   ]
  },
  {
   "cell_type": "code",
   "execution_count": 634,
   "metadata": {},
   "outputs": [],
   "source": [
    "#taking the distances between the #bedrooms of the room and the user nuumber\n",
    "room_dist=[]\n",
    "for i in f.bedrooms_count.values:\n",
    "    try:\n",
    "        if i == 'Studio':\n",
    "            room_dist.append(abs(1.5 - int(user_bedroom )))\n",
    "        else:\n",
    "            room_dist.append(abs((int(i)) - int(user_bedroom )))\n",
    "    except:\n",
    "        room_dist.append(-1)"
   ]
  },
  {
   "cell_type": "code",
   "execution_count": 635,
   "metadata": {},
   "outputs": [],
   "source": [
    "#taking the range (min and max) from the distances\n",
    "minimum = room_dist[0]\n",
    "for i in room_dist:\n",
    "        if i < minimum and not(i == -1):\n",
    "            minimum = i\n",
    "rang = max(room_dist) - minimum           "
   ]
  },
  {
   "cell_type": "code",
   "execution_count": 636,
   "metadata": {},
   "outputs": [],
   "source": [
    "#finding the rankings for bedrooms\n",
    "rankings_bedroom = {}\n",
    "for i in range(len(room_dist)):\n",
    "    if(room_dist[i] >= 0):\n",
    "        rankings_bedroom[i] = 1 - ((room_dist[i] - minimum ) / rang)\n",
    "    else:\n",
    "        rankings_bedroom[i] = None\n",
    "rankings_bedroom    \n",
    "f['bedroom_rank'] = rankings_bedroom.values()"
   ]
  },
  {
   "cell_type": "markdown",
   "metadata": {},
   "source": [
    "#### FINAL RANKING"
   ]
  },
  {
   "cell_type": "code",
   "execution_count": 637,
   "metadata": {},
   "outputs": [],
   "source": [
    "# giving weithed priority to the different rankings\n",
    "\n",
    "rank = []\n",
    "for i in f.index:\n",
    "    w1 = 0.15\n",
    "    w2 = 0.75\n",
    "    w3 = 0.10\n",
    "    if (f.loc[i, 'price_rank'] == None) and (f.loc[i, 'bedroom_rank'] == None):\n",
    "        r = f.loc[i, 'city_rank']\n",
    "    elif f.loc[i, 'bedroom_rank'] == None:\n",
    "        w1 = w1 + w3/2\n",
    "        w2 = w2 + w3/2\n",
    "        r = f.loc[i, 'price_rank']*w1 + f.loc[i, 'city_rank']*w2\n",
    "    elif f.loc[i, 'price_rank'] == None:\n",
    "        w3 = w3 + w1/2\n",
    "        w2 = w2 + w1/2\n",
    "        r = f.loc[i, 'bedroom_rank']*w3 + f.loc[i, 'city_rank']*w2\n",
    "    else:\n",
    "        r = f.loc[i, 'price_rank']*w1 + f.loc[i, 'city_rank']*w2 + f.loc[i, 'bedroom_rank']*w3\n",
    "    rank.append(str(round(r*100, 3)) + '%')\n",
    "    \n",
    "f['final_rank'] = rank"
   ]
  },
  {
   "cell_type": "code",
   "execution_count": 638,
   "metadata": {},
   "outputs": [],
   "source": [
    "#tup contains (ranking, index_of_doc) for each doc\n",
    "tup = []\n",
    "for i in f.index:\n",
    "    tup.append((float(f.loc[i , 'final_rank'][:-1]) , i))"
   ]
  },
  {
   "cell_type": "code",
   "execution_count": 640,
   "metadata": {},
   "outputs": [
    {
     "data": {
      "text/html": [
       "<style  type=\"text/css\" >\n",
       "</style>  \n",
       "<table id=\"T_e7052cb0_e9e5_11e8_9319_204747782cb8\" > \n",
       "<thead>    <tr> \n",
       "        <th class=\"col_heading level0 col0\" >title</th> \n",
       "        <th class=\"col_heading level0 col1\" >description</th> \n",
       "        <th class=\"col_heading level0 col2\" >city</th> \n",
       "        <th class=\"col_heading level0 col3\" >url</th> \n",
       "    </tr></thead> \n",
       "<tbody>    <tr> \n",
       "        <td id=\"T_e7052cb0_e9e5_11e8_9319_204747782cb8row0_col0\" class=\"data row0 col0\" >Terrific Townhouse on Lower Greenville</td> \n",
       "        <td id=\"T_e7052cb0_e9e5_11e8_9319_204747782cb8row0_col1\" class=\"data row0 col1\" >My townhouse is withing walking distance of the Lower Greenville and Knox Henderson neighborhoods. Convenient to restaurants and dining, family-friendly activities, and nightlife. You’ll love my place because of the neighborhood. My place is good for couples, solo adventurers, and business travelers.</td> \n",
       "        <td id=\"T_e7052cb0_e9e5_11e8_9319_204747782cb8row0_col2\" class=\"data row0 col2\" >dallas</td> \n",
       "        <td id=\"T_e7052cb0_e9e5_11e8_9319_204747782cb8row0_col3\" class=\"data row0 col3\" >https://www.airbnb.com/rooms/15952123?location=Balch%20Springs%2C%20TX</td> \n",
       "    </tr>    <tr> \n",
       "        <td id=\"T_e7052cb0_e9e5_11e8_9319_204747782cb8row1_col0\" class=\"data row1 col0\" >Dynamic Historic Studio in Uptown</td> \n",
       "        <td id=\"T_e7052cb0_e9e5_11e8_9319_204747782cb8row1_col1\" class=\"data row1 col1\" >Elegant studio in Uptown's premier historic building. Full of light and beautiful furniture.</td> \n",
       "        <td id=\"T_e7052cb0_e9e5_11e8_9319_204747782cb8row1_col2\" class=\"data row1 col2\" >dallas</td> \n",
       "        <td id=\"T_e7052cb0_e9e5_11e8_9319_204747782cb8row1_col3\" class=\"data row1 col3\" >https://www.airbnb.com/rooms/18391457?location=Carrollton%2C%20TX</td> \n",
       "    </tr>    <tr> \n",
       "        <td id=\"T_e7052cb0_e9e5_11e8_9319_204747782cb8row2_col0\" class=\"data row2 col0\" >Lone Star Darling</td> \n",
       "        <td id=\"T_e7052cb0_e9e5_11e8_9319_204747782cb8row2_col1\" class=\"data row2 col1\" >Our beautiful, comfortable, historic Oak Cliff home is just 2 miles from the vibrant Bishop Arts District, 3.5 miles from Trinity Groves, and 3 miles from downtown Dallas, with a bus stop right outside the front door. The house is located on a busy street. That makes it easy to get around, but also means there is some traffic noise in the front of the house. The master bedroom is in the back and noise should not be an issue there.</td> \n",
       "        <td id=\"T_e7052cb0_e9e5_11e8_9319_204747782cb8row2_col2\" class=\"data row2 col2\" >dallas</td> \n",
       "        <td id=\"T_e7052cb0_e9e5_11e8_9319_204747782cb8row2_col3\" class=\"data row2 col3\" >https://www.airbnb.com/rooms/3230663?location=Cedar%20Hill%2C%20TX</td> \n",
       "    </tr>    <tr> \n",
       "        <td id=\"T_e7052cb0_e9e5_11e8_9319_204747782cb8row3_col0\" class=\"data row3 col0\" >Private Room and Full Bath</td> \n",
       "        <td id=\"T_e7052cb0_e9e5_11e8_9319_204747782cb8row3_col1\" class=\"data row3 col1\" >This Dallas location is very close to Love Field Airport, great restaurants/dining. Good for couples, solo adventurers, and business travelers.</td> \n",
       "        <td id=\"T_e7052cb0_e9e5_11e8_9319_204747782cb8row3_col2\" class=\"data row3 col2\" >dallas</td> \n",
       "        <td id=\"T_e7052cb0_e9e5_11e8_9319_204747782cb8row3_col3\" class=\"data row3 col3\" >https://www.airbnb.com/rooms/13883549?location=Addison%2C%20TX</td> \n",
       "    </tr>    <tr> \n",
       "        <td id=\"T_e7052cb0_e9e5_11e8_9319_204747782cb8row4_col0\" class=\"data row4 col0\" >2BD Luxury Apartment In Central Upscale Area</td> \n",
       "        <td id=\"T_e7052cb0_e9e5_11e8_9319_204747782cb8row4_col1\" class=\"data row4 col1\" >You will feel like you are at a resort at this luxury community which is located in one of the most desirable neighborhoods of Dallas. You'll only be a quick 15 minutes from DFW airport, 20 minutes to Love Field airport, and 15-20 Minutes from the Uptown/Downtown area. There is a bunch of shopping and restaurants nearby. You'll have 24 Hour access to the fully equipped on-site gym, spin/yoga room, and lounge where you can enjoy 6 large flat screen TVs, shuffleboard, billiards and a poker table.</td> \n",
       "        <td id=\"T_e7052cb0_e9e5_11e8_9319_204747782cb8row4_col2\" class=\"data row4 col2\" >irving</td> \n",
       "        <td id=\"T_e7052cb0_e9e5_11e8_9319_204747782cb8row4_col3\" class=\"data row4 col3\" >https://www.airbnb.com/rooms/13942575?location=Carrollton%2C%20TX</td> \n",
       "    </tr>    <tr> \n",
       "        <td id=\"T_e7052cb0_e9e5_11e8_9319_204747782cb8row5_col0\" class=\"data row5 col0\" >2BD Luxury Apartment In Central Upscale Area</td> \n",
       "        <td id=\"T_e7052cb0_e9e5_11e8_9319_204747782cb8row5_col1\" class=\"data row5 col1\" >You will feel like you are at a resort at this luxury community which is located in one of the most desirable neighborhoods of Dallas. You'll only be a quick 15 minutes from DFW airport, 20 minutes to Love Field airport, and 15-20 Minutes from the Uptown/Downtown area. There is a bunch of shopping and restaurants nearby. You'll have 24 Hour access to the fully equipped on-site gym, spin/yoga room, and lounge where you can enjoy 6 large flat screen TVs, shuffleboard, billiards and a poker table.</td> \n",
       "        <td id=\"T_e7052cb0_e9e5_11e8_9319_204747782cb8row5_col2\" class=\"data row5 col2\" >irving</td> \n",
       "        <td id=\"T_e7052cb0_e9e5_11e8_9319_204747782cb8row5_col3\" class=\"data row5 col3\" >https://www.airbnb.com/rooms/13942575?location=Coppell%2C%20TX</td> \n",
       "    </tr>    <tr> \n",
       "        <td id=\"T_e7052cb0_e9e5_11e8_9319_204747782cb8row6_col0\" class=\"data row6 col0\" >2BD Luxury Apartment In Central Upscale Area</td> \n",
       "        <td id=\"T_e7052cb0_e9e5_11e8_9319_204747782cb8row6_col1\" class=\"data row6 col1\" >You will feel like you are at a resort at this luxury community which is located in one of the most desirable neighborhoods of Dallas. You'll only be a quick 15 minutes from DFW airport, 20 minutes to Love Field airport, and 15-20 Minutes from the Uptown/Downtown area. There is a bunch of shopping and restaurants nearby. You'll have 24 Hour access to the fully equipped on-site gym, spin/yoga room, and lounge where you can enjoy 6 large flat screen TVs, shuffleboard, billiards and a poker table.</td> \n",
       "        <td id=\"T_e7052cb0_e9e5_11e8_9319_204747782cb8row6_col2\" class=\"data row6 col2\" >irving</td> \n",
       "        <td id=\"T_e7052cb0_e9e5_11e8_9319_204747782cb8row6_col3\" class=\"data row6 col3\" >https://www.airbnb.com/rooms/13942575?location=Colleyville%2C%20TX</td> \n",
       "    </tr>    <tr> \n",
       "        <td id=\"T_e7052cb0_e9e5_11e8_9319_204747782cb8row7_col0\" class=\"data row7 col0\" >Beautiful Cozy Hideout | SMU and North Park Mall</td> \n",
       "        <td id=\"T_e7052cb0_e9e5_11e8_9319_204747782cb8row7_col1\" class=\"data row7 col1\" >Everything inside is new!! Close to over 50 restaurants, shopping, SMU, North Park Mall, UTD, lower Greenville and 10 min from downtown/uptown/west village. 28 min to AT&amp;T Cowboys Stadium. Sleeps 6 comfortably. You’ll L-O-V-E this place because of the private patio, beds, kitchen, coziness, and it's the perfect location. It's a newly renovated condo unit, with brand new appliances and fully furnished with all necessities. Close to Interstate I-75. Walking distance to the Park Lane station.</td> \n",
       "        <td id=\"T_e7052cb0_e9e5_11e8_9319_204747782cb8row7_col2\" class=\"data row7 col2\" >dallas</td> \n",
       "        <td id=\"T_e7052cb0_e9e5_11e8_9319_204747782cb8row7_col3\" class=\"data row7 col3\" >https://www.airbnb.com/rooms/17761909?location=Addison%2C%20TX</td> \n",
       "    </tr>    <tr> \n",
       "        <td id=\"T_e7052cb0_e9e5_11e8_9319_204747782cb8row8_col0\" class=\"data row8 col0\" >SwissAve CozyAttic/Fits a Crowd</td> \n",
       "        <td id=\"T_e7052cb0_e9e5_11e8_9319_204747782cb8row8_col1\" class=\"data row8 col1\" >GOT PEEPS? refinished attic space, en suite bath antique tub with shower. Main room with queen, small twin in cozy window dormer behind french doors. For extra sleepers, add xtra long twin and twin trundle beds. $20 each extra</td> \n",
       "        <td id=\"T_e7052cb0_e9e5_11e8_9319_204747782cb8row8_col2\" class=\"data row8 col2\" >dallas</td> \n",
       "        <td id=\"T_e7052cb0_e9e5_11e8_9319_204747782cb8row8_col3\" class=\"data row8 col3\" >https://www.airbnb.com/rooms/5027175?location=Balch%20Springs%2C%20TX</td> \n",
       "    </tr>    <tr> \n",
       "        <td id=\"T_e7052cb0_e9e5_11e8_9319_204747782cb8row9_col0\" class=\"data row9 col0\" >Modern East Dallas Garden Home</td> \n",
       "        <td id=\"T_e7052cb0_e9e5_11e8_9319_204747782cb8row9_col1\" class=\"data row9 col1\" >Close to Downtown, Deep Ellum, Fair Park, Convention Center, AA Center, Arts District, Uptown, and Greenville Avenue. Please have your ID verified before submitting a reservation request. Guests with positive reviews are preferred.</td> \n",
       "        <td id=\"T_e7052cb0_e9e5_11e8_9319_204747782cb8row9_col2\" class=\"data row9 col2\" >dallas</td> \n",
       "        <td id=\"T_e7052cb0_e9e5_11e8_9319_204747782cb8row9_col3\" class=\"data row9 col3\" >https://www.airbnb.com/rooms/10518366?location=Balch%20Springs%2C%20TX</td> \n",
       "    </tr></tbody> \n",
       "</table> "
      ],
      "text/plain": [
       "<pandas.io.formats.style.Styler at 0x1e1dae67c88>"
      ]
     },
     "execution_count": 640,
     "metadata": {},
     "output_type": "execute_result"
    }
   ],
   "source": [
    "#create the max heap from the cosine similarituìies values and taking the k-largest values\n",
    "k = 10\n",
    "\n",
    "heap_max = []\n",
    "for i in tup:\n",
    "    heapq_max.heappush_max(heap_max, i)\n",
    "heap_max\n",
    "\n",
    "best_doc = []\n",
    "docs = []\n",
    "for i in range(k):\n",
    "    cos = heapq_max.heappop_max(heap_max)\n",
    "    best_doc.append(cos[0])\n",
    "    docs.append(int(cos[1]))\n",
    "\n",
    "#displaying the best k rooms    \n",
    "df = f.filter(items = ['title', 'description', 'city', 'url']).loc[docs]\n",
    "df.description = list(map(lambda x: x.replace('\\\\n', ' '), df.description.tolist()))\n",
    "df.style.hide_index()"
   ]
  },
  {
   "cell_type": "code",
   "execution_count": null,
   "metadata": {
    "scrolled": false
   },
   "outputs": [],
   "source": []
  }
 ],
 "metadata": {
  "kernelspec": {
   "display_name": "Python 3",
   "language": "python",
   "name": "python3"
  },
  "language_info": {
   "codemirror_mode": {
    "name": "ipython",
    "version": 3
   },
   "file_extension": ".py",
   "mimetype": "text/x-python",
   "name": "python",
   "nbconvert_exporter": "python",
   "pygments_lexer": "ipython3",
   "version": "3.6.6"
  }
 },
 "nbformat": 4,
 "nbformat_minor": 2
}
